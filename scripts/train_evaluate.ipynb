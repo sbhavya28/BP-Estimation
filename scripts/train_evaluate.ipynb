{
 "cells": [
  {
   "cell_type": "code",
   "execution_count": 1,
   "id": "5931fe5b",
   "metadata": {},
   "outputs": [],
   "source": [
    "import os\n",
    "import time\n",
    "import joblib\n",
    "from tensorflow.keras.callbacks import ModelCheckpoint, EarlyStopping, ReduceLROnPlateau\n",
    "\n",
    "from model_tf import build_hybrid_model\n",
    "from hybrid_generator import HybridScalogramPPGGenerator\n"
   ]
  },
  {
   "cell_type": "markdown",
   "id": "d93d1349",
   "metadata": {},
   "source": [
    "CONFIGURATION"
   ]
  },
  {
   "cell_type": "code",
   "execution_count": 7,
   "id": "9f33f4de",
   "metadata": {},
   "outputs": [],
   "source": [
    "# Paths for your splits and segments\n",
    "BASE_DIR = \"../data/model_data\"\n",
    "SEGMENTS_DIR = \"../data/segments\"\n",
    "\n",
    "TRAIN_DIR = os.path.join(BASE_DIR, \"train\")\n",
    "VAL_DIR   = os.path.join(BASE_DIR, \"val\")\n",
    "TEST_DIR  = os.path.join(BASE_DIR, \"test\")\n",
    "\n",
    "BATCH_SIZE = 32\n",
    "IMG_SIZE = (128, 128)\n",
    "EPOCHS = 100"
   ]
  },
  {
   "cell_type": "markdown",
   "id": "c191b945",
   "metadata": {},
   "source": [
    "DATA GENERATORS"
   ]
  },
  {
   "cell_type": "code",
   "execution_count": 8,
   "id": "23d4f4dc",
   "metadata": {},
   "outputs": [
    {
     "name": "stdout",
     "output_type": "stream",
     "text": [
      "[INFO] Loading data generators...\n",
      "[INFO] Label scaler saved to 'label_scaler.save'\n"
     ]
    }
   ],
   "source": [
    "print(\"[INFO] Loading data generators...\")\n",
    "\n",
    "# Load training generator (fits scaler)\n",
    "train_gen = HybridScalogramPPGGenerator(\n",
    "    image_dir=TRAIN_DIR,\n",
    "    segment_dir=SEGMENTS_DIR,\n",
    "    batch_size=BATCH_SIZE,\n",
    "    img_size=IMG_SIZE\n",
    ")\n",
    "\n",
    "# Load validation and test generators (use training scaler)\n",
    "scaler = train_gen.get_scaler()\n",
    "val_gen = HybridScalogramPPGGenerator(\n",
    "    image_dir=VAL_DIR,\n",
    "    segment_dir=SEGMENTS_DIR,\n",
    "    batch_size=BATCH_SIZE,\n",
    "    img_size=IMG_SIZE,\n",
    "    label_scaler=scaler\n",
    ")\n",
    "test_gen = HybridScalogramPPGGenerator(\n",
    "    image_dir=TEST_DIR,\n",
    "    segment_dir=SEGMENTS_DIR,\n",
    "    batch_size=BATCH_SIZE,\n",
    "    img_size=IMG_SIZE,\n",
    "    shuffle=False,\n",
    "    label_scaler=scaler\n",
    ")\n",
    "\n",
    "# Save the fitted scaler for later inference\n",
    "joblib.dump(scaler, \"label_scaler.save\")\n",
    "print(\"[INFO] Label scaler saved to 'label_scaler.save'\")"
   ]
  },
  {
   "cell_type": "markdown",
   "id": "a1fd1878",
   "metadata": {},
   "source": [
    " MODEL SETUP "
   ]
  },
  {
   "cell_type": "code",
   "execution_count": 9,
   "id": "0e3851a0",
   "metadata": {},
   "outputs": [
    {
     "data": {
      "text/html": [
       "<pre style=\"white-space:pre;overflow-x:auto;line-height:normal;font-family:Menlo,'DejaVu Sans Mono',consolas,'Courier New',monospace\"><span style=\"font-weight: bold\">Model: \"functional\"</span>\n",
       "</pre>\n"
      ],
      "text/plain": [
       "\u001b[1mModel: \"functional\"\u001b[0m\n"
      ]
     },
     "metadata": {},
     "output_type": "display_data"
    },
    {
     "data": {
      "text/html": [
       "<pre style=\"white-space:pre;overflow-x:auto;line-height:normal;font-family:Menlo,'DejaVu Sans Mono',consolas,'Courier New',monospace\">┏━━━━━━━━━━━━━━━━━━━━━┳━━━━━━━━━━━━━━━━━━━┳━━━━━━━━━━━━┳━━━━━━━━━━━━━━━━━━━┓\n",
       "┃<span style=\"font-weight: bold\"> Layer (type)        </span>┃<span style=\"font-weight: bold\"> Output Shape      </span>┃<span style=\"font-weight: bold\">    Param # </span>┃<span style=\"font-weight: bold\"> Connected to      </span>┃\n",
       "┡━━━━━━━━━━━━━━━━━━━━━╇━━━━━━━━━━━━━━━━━━━╇━━━━━━━━━━━━╇━━━━━━━━━━━━━━━━━━━┩\n",
       "│ image_input         │ (<span style=\"color: #00d7ff; text-decoration-color: #00d7ff\">None</span>, <span style=\"color: #00af00; text-decoration-color: #00af00\">128</span>, <span style=\"color: #00af00; text-decoration-color: #00af00\">128</span>,  │          <span style=\"color: #00af00; text-decoration-color: #00af00\">0</span> │ -                 │\n",
       "│ (<span style=\"color: #0087ff; text-decoration-color: #0087ff\">InputLayer</span>)        │ <span style=\"color: #00af00; text-decoration-color: #00af00\">1</span>)                │            │                   │\n",
       "├─────────────────────┼───────────────────┼────────────┼───────────────────┤\n",
       "│ conv2d (<span style=\"color: #0087ff; text-decoration-color: #0087ff\">Conv2D</span>)     │ (<span style=\"color: #00d7ff; text-decoration-color: #00d7ff\">None</span>, <span style=\"color: #00af00; text-decoration-color: #00af00\">128</span>, <span style=\"color: #00af00; text-decoration-color: #00af00\">128</span>,  │        <span style=\"color: #00af00; text-decoration-color: #00af00\">320</span> │ image_input[<span style=\"color: #00af00; text-decoration-color: #00af00\">0</span>][<span style=\"color: #00af00; text-decoration-color: #00af00\">0</span>] │\n",
       "│                     │ <span style=\"color: #00af00; text-decoration-color: #00af00\">32</span>)               │            │                   │\n",
       "├─────────────────────┼───────────────────┼────────────┼───────────────────┤\n",
       "│ max_pooling2d       │ (<span style=\"color: #00d7ff; text-decoration-color: #00d7ff\">None</span>, <span style=\"color: #00af00; text-decoration-color: #00af00\">64</span>, <span style=\"color: #00af00; text-decoration-color: #00af00\">64</span>,    │          <span style=\"color: #00af00; text-decoration-color: #00af00\">0</span> │ conv2d[<span style=\"color: #00af00; text-decoration-color: #00af00\">0</span>][<span style=\"color: #00af00; text-decoration-color: #00af00\">0</span>]      │\n",
       "│ (<span style=\"color: #0087ff; text-decoration-color: #0087ff\">MaxPooling2D</span>)      │ <span style=\"color: #00af00; text-decoration-color: #00af00\">32</span>)               │            │                   │\n",
       "├─────────────────────┼───────────────────┼────────────┼───────────────────┤\n",
       "│ conv2d_1 (<span style=\"color: #0087ff; text-decoration-color: #0087ff\">Conv2D</span>)   │ (<span style=\"color: #00d7ff; text-decoration-color: #00d7ff\">None</span>, <span style=\"color: #00af00; text-decoration-color: #00af00\">64</span>, <span style=\"color: #00af00; text-decoration-color: #00af00\">64</span>,    │     <span style=\"color: #00af00; text-decoration-color: #00af00\">18,496</span> │ max_pooling2d[<span style=\"color: #00af00; text-decoration-color: #00af00\">0</span>]… │\n",
       "│                     │ <span style=\"color: #00af00; text-decoration-color: #00af00\">64</span>)               │            │                   │\n",
       "├─────────────────────┼───────────────────┼────────────┼───────────────────┤\n",
       "│ max_pooling2d_1     │ (<span style=\"color: #00d7ff; text-decoration-color: #00d7ff\">None</span>, <span style=\"color: #00af00; text-decoration-color: #00af00\">32</span>, <span style=\"color: #00af00; text-decoration-color: #00af00\">32</span>,    │          <span style=\"color: #00af00; text-decoration-color: #00af00\">0</span> │ conv2d_1[<span style=\"color: #00af00; text-decoration-color: #00af00\">0</span>][<span style=\"color: #00af00; text-decoration-color: #00af00\">0</span>]    │\n",
       "│ (<span style=\"color: #0087ff; text-decoration-color: #0087ff\">MaxPooling2D</span>)      │ <span style=\"color: #00af00; text-decoration-color: #00af00\">64</span>)               │            │                   │\n",
       "├─────────────────────┼───────────────────┼────────────┼───────────────────┤\n",
       "│ ppg_input           │ (<span style=\"color: #00d7ff; text-decoration-color: #00d7ff\">None</span>, <span style=\"color: #00af00; text-decoration-color: #00af00\">1000</span>, <span style=\"color: #00af00; text-decoration-color: #00af00\">1</span>)   │          <span style=\"color: #00af00; text-decoration-color: #00af00\">0</span> │ -                 │\n",
       "│ (<span style=\"color: #0087ff; text-decoration-color: #0087ff\">InputLayer</span>)        │                   │            │                   │\n",
       "├─────────────────────┼───────────────────┼────────────┼───────────────────┤\n",
       "│ reshape (<span style=\"color: #0087ff; text-decoration-color: #0087ff\">Reshape</span>)   │ (<span style=\"color: #00d7ff; text-decoration-color: #00d7ff\">None</span>, <span style=\"color: #00af00; text-decoration-color: #00af00\">1024</span>, <span style=\"color: #00af00; text-decoration-color: #00af00\">64</span>)  │          <span style=\"color: #00af00; text-decoration-color: #00af00\">0</span> │ max_pooling2d_1[<span style=\"color: #00af00; text-decoration-color: #00af00\">…</span> │\n",
       "├─────────────────────┼───────────────────┼────────────┼───────────────────┤\n",
       "│ conv1d (<span style=\"color: #0087ff; text-decoration-color: #0087ff\">Conv1D</span>)     │ (<span style=\"color: #00d7ff; text-decoration-color: #00d7ff\">None</span>, <span style=\"color: #00af00; text-decoration-color: #00af00\">1000</span>, <span style=\"color: #00af00; text-decoration-color: #00af00\">32</span>)  │        <span style=\"color: #00af00; text-decoration-color: #00af00\">192</span> │ ppg_input[<span style=\"color: #00af00; text-decoration-color: #00af00\">0</span>][<span style=\"color: #00af00; text-decoration-color: #00af00\">0</span>]   │\n",
       "├─────────────────────┼───────────────────┼────────────┼───────────────────┤\n",
       "│ bidirectional       │ (<span style=\"color: #00d7ff; text-decoration-color: #00d7ff\">None</span>, <span style=\"color: #00af00; text-decoration-color: #00af00\">128</span>)       │     <span style=\"color: #00af00; text-decoration-color: #00af00\">66,048</span> │ reshape[<span style=\"color: #00af00; text-decoration-color: #00af00\">0</span>][<span style=\"color: #00af00; text-decoration-color: #00af00\">0</span>]     │\n",
       "│ (<span style=\"color: #0087ff; text-decoration-color: #0087ff\">Bidirectional</span>)     │                   │            │                   │\n",
       "├─────────────────────┼───────────────────┼────────────┼───────────────────┤\n",
       "│ max_pooling1d       │ (<span style=\"color: #00d7ff; text-decoration-color: #00d7ff\">None</span>, <span style=\"color: #00af00; text-decoration-color: #00af00\">500</span>, <span style=\"color: #00af00; text-decoration-color: #00af00\">32</span>)   │          <span style=\"color: #00af00; text-decoration-color: #00af00\">0</span> │ conv1d[<span style=\"color: #00af00; text-decoration-color: #00af00\">0</span>][<span style=\"color: #00af00; text-decoration-color: #00af00\">0</span>]      │\n",
       "│ (<span style=\"color: #0087ff; text-decoration-color: #0087ff\">MaxPooling1D</span>)      │                   │            │                   │\n",
       "├─────────────────────┼───────────────────┼────────────┼───────────────────┤\n",
       "│ dense (<span style=\"color: #0087ff; text-decoration-color: #0087ff\">Dense</span>)       │ (<span style=\"color: #00d7ff; text-decoration-color: #00d7ff\">None</span>, <span style=\"color: #00af00; text-decoration-color: #00af00\">64</span>)        │      <span style=\"color: #00af00; text-decoration-color: #00af00\">8,256</span> │ bidirectional[<span style=\"color: #00af00; text-decoration-color: #00af00\">0</span>]… │\n",
       "├─────────────────────┼───────────────────┼────────────┼───────────────────┤\n",
       "│ bidirectional_1     │ (<span style=\"color: #00d7ff; text-decoration-color: #00d7ff\">None</span>, <span style=\"color: #00af00; text-decoration-color: #00af00\">128</span>)       │     <span style=\"color: #00af00; text-decoration-color: #00af00\">49,664</span> │ max_pooling1d[<span style=\"color: #00af00; text-decoration-color: #00af00\">0</span>]… │\n",
       "│ (<span style=\"color: #0087ff; text-decoration-color: #0087ff\">Bidirectional</span>)     │                   │            │                   │\n",
       "├─────────────────────┼───────────────────┼────────────┼───────────────────┤\n",
       "│ dropout (<span style=\"color: #0087ff; text-decoration-color: #0087ff\">Dropout</span>)   │ (<span style=\"color: #00d7ff; text-decoration-color: #00d7ff\">None</span>, <span style=\"color: #00af00; text-decoration-color: #00af00\">64</span>)        │          <span style=\"color: #00af00; text-decoration-color: #00af00\">0</span> │ dense[<span style=\"color: #00af00; text-decoration-color: #00af00\">0</span>][<span style=\"color: #00af00; text-decoration-color: #00af00\">0</span>]       │\n",
       "├─────────────────────┼───────────────────┼────────────┼───────────────────┤\n",
       "│ dense_1 (<span style=\"color: #0087ff; text-decoration-color: #0087ff\">Dense</span>)     │ (<span style=\"color: #00d7ff; text-decoration-color: #00d7ff\">None</span>, <span style=\"color: #00af00; text-decoration-color: #00af00\">64</span>)        │      <span style=\"color: #00af00; text-decoration-color: #00af00\">8,256</span> │ bidirectional_1[<span style=\"color: #00af00; text-decoration-color: #00af00\">…</span> │\n",
       "├─────────────────────┼───────────────────┼────────────┼───────────────────┤\n",
       "│ concatenate         │ (<span style=\"color: #00d7ff; text-decoration-color: #00d7ff\">None</span>, <span style=\"color: #00af00; text-decoration-color: #00af00\">128</span>)       │          <span style=\"color: #00af00; text-decoration-color: #00af00\">0</span> │ dropout[<span style=\"color: #00af00; text-decoration-color: #00af00\">0</span>][<span style=\"color: #00af00; text-decoration-color: #00af00\">0</span>],    │\n",
       "│ (<span style=\"color: #0087ff; text-decoration-color: #0087ff\">Concatenate</span>)       │                   │            │ dense_1[<span style=\"color: #00af00; text-decoration-color: #00af00\">0</span>][<span style=\"color: #00af00; text-decoration-color: #00af00\">0</span>]     │\n",
       "├─────────────────────┼───────────────────┼────────────┼───────────────────┤\n",
       "│ dense_2 (<span style=\"color: #0087ff; text-decoration-color: #0087ff\">Dense</span>)     │ (<span style=\"color: #00d7ff; text-decoration-color: #00d7ff\">None</span>, <span style=\"color: #00af00; text-decoration-color: #00af00\">64</span>)        │      <span style=\"color: #00af00; text-decoration-color: #00af00\">8,256</span> │ concatenate[<span style=\"color: #00af00; text-decoration-color: #00af00\">0</span>][<span style=\"color: #00af00; text-decoration-color: #00af00\">0</span>] │\n",
       "├─────────────────────┼───────────────────┼────────────┼───────────────────┤\n",
       "│ bp_output (<span style=\"color: #0087ff; text-decoration-color: #0087ff\">Dense</span>)   │ (<span style=\"color: #00d7ff; text-decoration-color: #00d7ff\">None</span>, <span style=\"color: #00af00; text-decoration-color: #00af00\">2</span>)         │        <span style=\"color: #00af00; text-decoration-color: #00af00\">130</span> │ dense_2[<span style=\"color: #00af00; text-decoration-color: #00af00\">0</span>][<span style=\"color: #00af00; text-decoration-color: #00af00\">0</span>]     │\n",
       "└─────────────────────┴───────────────────┴────────────┴───────────────────┘\n",
       "</pre>\n"
      ],
      "text/plain": [
       "┏━━━━━━━━━━━━━━━━━━━━━┳━━━━━━━━━━━━━━━━━━━┳━━━━━━━━━━━━┳━━━━━━━━━━━━━━━━━━━┓\n",
       "┃\u001b[1m \u001b[0m\u001b[1mLayer (type)       \u001b[0m\u001b[1m \u001b[0m┃\u001b[1m \u001b[0m\u001b[1mOutput Shape     \u001b[0m\u001b[1m \u001b[0m┃\u001b[1m \u001b[0m\u001b[1m   Param #\u001b[0m\u001b[1m \u001b[0m┃\u001b[1m \u001b[0m\u001b[1mConnected to     \u001b[0m\u001b[1m \u001b[0m┃\n",
       "┡━━━━━━━━━━━━━━━━━━━━━╇━━━━━━━━━━━━━━━━━━━╇━━━━━━━━━━━━╇━━━━━━━━━━━━━━━━━━━┩\n",
       "│ image_input         │ (\u001b[38;5;45mNone\u001b[0m, \u001b[38;5;34m128\u001b[0m, \u001b[38;5;34m128\u001b[0m,  │          \u001b[38;5;34m0\u001b[0m │ -                 │\n",
       "│ (\u001b[38;5;33mInputLayer\u001b[0m)        │ \u001b[38;5;34m1\u001b[0m)                │            │                   │\n",
       "├─────────────────────┼───────────────────┼────────────┼───────────────────┤\n",
       "│ conv2d (\u001b[38;5;33mConv2D\u001b[0m)     │ (\u001b[38;5;45mNone\u001b[0m, \u001b[38;5;34m128\u001b[0m, \u001b[38;5;34m128\u001b[0m,  │        \u001b[38;5;34m320\u001b[0m │ image_input[\u001b[38;5;34m0\u001b[0m][\u001b[38;5;34m0\u001b[0m] │\n",
       "│                     │ \u001b[38;5;34m32\u001b[0m)               │            │                   │\n",
       "├─────────────────────┼───────────────────┼────────────┼───────────────────┤\n",
       "│ max_pooling2d       │ (\u001b[38;5;45mNone\u001b[0m, \u001b[38;5;34m64\u001b[0m, \u001b[38;5;34m64\u001b[0m,    │          \u001b[38;5;34m0\u001b[0m │ conv2d[\u001b[38;5;34m0\u001b[0m][\u001b[38;5;34m0\u001b[0m]      │\n",
       "│ (\u001b[38;5;33mMaxPooling2D\u001b[0m)      │ \u001b[38;5;34m32\u001b[0m)               │            │                   │\n",
       "├─────────────────────┼───────────────────┼────────────┼───────────────────┤\n",
       "│ conv2d_1 (\u001b[38;5;33mConv2D\u001b[0m)   │ (\u001b[38;5;45mNone\u001b[0m, \u001b[38;5;34m64\u001b[0m, \u001b[38;5;34m64\u001b[0m,    │     \u001b[38;5;34m18,496\u001b[0m │ max_pooling2d[\u001b[38;5;34m0\u001b[0m]… │\n",
       "│                     │ \u001b[38;5;34m64\u001b[0m)               │            │                   │\n",
       "├─────────────────────┼───────────────────┼────────────┼───────────────────┤\n",
       "│ max_pooling2d_1     │ (\u001b[38;5;45mNone\u001b[0m, \u001b[38;5;34m32\u001b[0m, \u001b[38;5;34m32\u001b[0m,    │          \u001b[38;5;34m0\u001b[0m │ conv2d_1[\u001b[38;5;34m0\u001b[0m][\u001b[38;5;34m0\u001b[0m]    │\n",
       "│ (\u001b[38;5;33mMaxPooling2D\u001b[0m)      │ \u001b[38;5;34m64\u001b[0m)               │            │                   │\n",
       "├─────────────────────┼───────────────────┼────────────┼───────────────────┤\n",
       "│ ppg_input           │ (\u001b[38;5;45mNone\u001b[0m, \u001b[38;5;34m1000\u001b[0m, \u001b[38;5;34m1\u001b[0m)   │          \u001b[38;5;34m0\u001b[0m │ -                 │\n",
       "│ (\u001b[38;5;33mInputLayer\u001b[0m)        │                   │            │                   │\n",
       "├─────────────────────┼───────────────────┼────────────┼───────────────────┤\n",
       "│ reshape (\u001b[38;5;33mReshape\u001b[0m)   │ (\u001b[38;5;45mNone\u001b[0m, \u001b[38;5;34m1024\u001b[0m, \u001b[38;5;34m64\u001b[0m)  │          \u001b[38;5;34m0\u001b[0m │ max_pooling2d_1[\u001b[38;5;34m…\u001b[0m │\n",
       "├─────────────────────┼───────────────────┼────────────┼───────────────────┤\n",
       "│ conv1d (\u001b[38;5;33mConv1D\u001b[0m)     │ (\u001b[38;5;45mNone\u001b[0m, \u001b[38;5;34m1000\u001b[0m, \u001b[38;5;34m32\u001b[0m)  │        \u001b[38;5;34m192\u001b[0m │ ppg_input[\u001b[38;5;34m0\u001b[0m][\u001b[38;5;34m0\u001b[0m]   │\n",
       "├─────────────────────┼───────────────────┼────────────┼───────────────────┤\n",
       "│ bidirectional       │ (\u001b[38;5;45mNone\u001b[0m, \u001b[38;5;34m128\u001b[0m)       │     \u001b[38;5;34m66,048\u001b[0m │ reshape[\u001b[38;5;34m0\u001b[0m][\u001b[38;5;34m0\u001b[0m]     │\n",
       "│ (\u001b[38;5;33mBidirectional\u001b[0m)     │                   │            │                   │\n",
       "├─────────────────────┼───────────────────┼────────────┼───────────────────┤\n",
       "│ max_pooling1d       │ (\u001b[38;5;45mNone\u001b[0m, \u001b[38;5;34m500\u001b[0m, \u001b[38;5;34m32\u001b[0m)   │          \u001b[38;5;34m0\u001b[0m │ conv1d[\u001b[38;5;34m0\u001b[0m][\u001b[38;5;34m0\u001b[0m]      │\n",
       "│ (\u001b[38;5;33mMaxPooling1D\u001b[0m)      │                   │            │                   │\n",
       "├─────────────────────┼───────────────────┼────────────┼───────────────────┤\n",
       "│ dense (\u001b[38;5;33mDense\u001b[0m)       │ (\u001b[38;5;45mNone\u001b[0m, \u001b[38;5;34m64\u001b[0m)        │      \u001b[38;5;34m8,256\u001b[0m │ bidirectional[\u001b[38;5;34m0\u001b[0m]… │\n",
       "├─────────────────────┼───────────────────┼────────────┼───────────────────┤\n",
       "│ bidirectional_1     │ (\u001b[38;5;45mNone\u001b[0m, \u001b[38;5;34m128\u001b[0m)       │     \u001b[38;5;34m49,664\u001b[0m │ max_pooling1d[\u001b[38;5;34m0\u001b[0m]… │\n",
       "│ (\u001b[38;5;33mBidirectional\u001b[0m)     │                   │            │                   │\n",
       "├─────────────────────┼───────────────────┼────────────┼───────────────────┤\n",
       "│ dropout (\u001b[38;5;33mDropout\u001b[0m)   │ (\u001b[38;5;45mNone\u001b[0m, \u001b[38;5;34m64\u001b[0m)        │          \u001b[38;5;34m0\u001b[0m │ dense[\u001b[38;5;34m0\u001b[0m][\u001b[38;5;34m0\u001b[0m]       │\n",
       "├─────────────────────┼───────────────────┼────────────┼───────────────────┤\n",
       "│ dense_1 (\u001b[38;5;33mDense\u001b[0m)     │ (\u001b[38;5;45mNone\u001b[0m, \u001b[38;5;34m64\u001b[0m)        │      \u001b[38;5;34m8,256\u001b[0m │ bidirectional_1[\u001b[38;5;34m…\u001b[0m │\n",
       "├─────────────────────┼───────────────────┼────────────┼───────────────────┤\n",
       "│ concatenate         │ (\u001b[38;5;45mNone\u001b[0m, \u001b[38;5;34m128\u001b[0m)       │          \u001b[38;5;34m0\u001b[0m │ dropout[\u001b[38;5;34m0\u001b[0m][\u001b[38;5;34m0\u001b[0m],    │\n",
       "│ (\u001b[38;5;33mConcatenate\u001b[0m)       │                   │            │ dense_1[\u001b[38;5;34m0\u001b[0m][\u001b[38;5;34m0\u001b[0m]     │\n",
       "├─────────────────────┼───────────────────┼────────────┼───────────────────┤\n",
       "│ dense_2 (\u001b[38;5;33mDense\u001b[0m)     │ (\u001b[38;5;45mNone\u001b[0m, \u001b[38;5;34m64\u001b[0m)        │      \u001b[38;5;34m8,256\u001b[0m │ concatenate[\u001b[38;5;34m0\u001b[0m][\u001b[38;5;34m0\u001b[0m] │\n",
       "├─────────────────────┼───────────────────┼────────────┼───────────────────┤\n",
       "│ bp_output (\u001b[38;5;33mDense\u001b[0m)   │ (\u001b[38;5;45mNone\u001b[0m, \u001b[38;5;34m2\u001b[0m)         │        \u001b[38;5;34m130\u001b[0m │ dense_2[\u001b[38;5;34m0\u001b[0m][\u001b[38;5;34m0\u001b[0m]     │\n",
       "└─────────────────────┴───────────────────┴────────────┴───────────────────┘\n"
      ]
     },
     "metadata": {},
     "output_type": "display_data"
    },
    {
     "data": {
      "text/html": [
       "<pre style=\"white-space:pre;overflow-x:auto;line-height:normal;font-family:Menlo,'DejaVu Sans Mono',consolas,'Courier New',monospace\"><span style=\"font-weight: bold\"> Total params: </span><span style=\"color: #00af00; text-decoration-color: #00af00\">159,618</span> (623.51 KB)\n",
       "</pre>\n"
      ],
      "text/plain": [
       "\u001b[1m Total params: \u001b[0m\u001b[38;5;34m159,618\u001b[0m (623.51 KB)\n"
      ]
     },
     "metadata": {},
     "output_type": "display_data"
    },
    {
     "data": {
      "text/html": [
       "<pre style=\"white-space:pre;overflow-x:auto;line-height:normal;font-family:Menlo,'DejaVu Sans Mono',consolas,'Courier New',monospace\"><span style=\"font-weight: bold\"> Trainable params: </span><span style=\"color: #00af00; text-decoration-color: #00af00\">159,618</span> (623.51 KB)\n",
       "</pre>\n"
      ],
      "text/plain": [
       "\u001b[1m Trainable params: \u001b[0m\u001b[38;5;34m159,618\u001b[0m (623.51 KB)\n"
      ]
     },
     "metadata": {},
     "output_type": "display_data"
    },
    {
     "data": {
      "text/html": [
       "<pre style=\"white-space:pre;overflow-x:auto;line-height:normal;font-family:Menlo,'DejaVu Sans Mono',consolas,'Courier New',monospace\"><span style=\"font-weight: bold\"> Non-trainable params: </span><span style=\"color: #00af00; text-decoration-color: #00af00\">0</span> (0.00 B)\n",
       "</pre>\n"
      ],
      "text/plain": [
       "\u001b[1m Non-trainable params: \u001b[0m\u001b[38;5;34m0\u001b[0m (0.00 B)\n"
      ]
     },
     "metadata": {},
     "output_type": "display_data"
    }
   ],
   "source": [
    "segment_len = train_gen[0][0]['ppg_input'].shape[1]\n",
    "\n",
    "model = build_hybrid_model(\n",
    "    input_shape=(IMG_SIZE[0], IMG_SIZE[1], 1), ppg_len=segment_len\n",
    "    )\n",
    "model.compile(\n",
    "    optimizer=\"adam\", \n",
    "    loss=\"mse\", \n",
    "    metrics=[\"mae\"])\n",
    "    \n",
    "model.summary()"
   ]
  },
  {
   "cell_type": "markdown",
   "id": "e2ca3830",
   "metadata": {},
   "source": [
    "CALLBACKS"
   ]
  },
  {
   "cell_type": "code",
   "execution_count": 10,
   "id": "408bddf6",
   "metadata": {},
   "outputs": [],
   "source": [
    "callbacks = [\n",
    "    ModelCheckpoint(\"best_hybrid_model.h5\", \n",
    "                    monitor=\"val_mae\", \n",
    "                    save_best_only=True, \n",
    "                    verbose=1),\n",
    "    \n",
    "    EarlyStopping(\n",
    "        monitor=\"val_mae\", \n",
    "        patience=10, \n",
    "        restore_best_weights=True, \n",
    "        verbose=1),\n",
    "    \n",
    "    ReduceLROnPlateau(\n",
    "        monitor=\"val_mae\", \n",
    "        factor=0.5, \n",
    "        patience=4, \n",
    "        verbose=1)\n",
    "]"
   ]
  },
  {
   "cell_type": "markdown",
   "id": "0d84bf5b",
   "metadata": {},
   "source": [
    "TRAINING"
   ]
  },
  {
   "cell_type": "code",
   "execution_count": 11,
   "id": "dca2f780",
   "metadata": {},
   "outputs": [
    {
     "name": "stdout",
     "output_type": "stream",
     "text": [
      "\n",
      "Training started...\n"
     ]
    },
    {
     "name": "stderr",
     "output_type": "stream",
     "text": [
      "c:\\Users\\shukl\\anaconda3\\Lib\\site-packages\\keras\\src\\trainers\\data_adapters\\py_dataset_adapter.py:121: UserWarning: Your `PyDataset` class should call `super().__init__(**kwargs)` in its constructor. `**kwargs` can include `workers`, `use_multiprocessing`, `max_queue_size`. Do not pass these arguments to `fit()`, as they will be ignored.\n",
      "  self._warn_if_super_not_called()\n"
     ]
    },
    {
     "name": "stdout",
     "output_type": "stream",
     "text": [
      "Epoch 1/100\n",
      "\u001b[1m246/246\u001b[0m \u001b[32m━━━━━━━━━━━━━━━━━━━━\u001b[0m\u001b[37m\u001b[0m \u001b[1m0s\u001b[0m 672ms/step - loss: 0.7560 - mae: 0.6314\n",
      "Epoch 1: val_mae improved from inf to 0.44954, saving model to best_hybrid_model.h5\n"
     ]
    },
    {
     "name": "stderr",
     "output_type": "stream",
     "text": [
      "WARNING:absl:You are saving your model as an HDF5 file via `model.save()` or `keras.saving.save_model(model)`. This file format is considered legacy. We recommend using instead the native Keras format, e.g. `model.save('my_model.keras')` or `keras.saving.save_model(model, 'my_model.keras')`. \n"
     ]
    },
    {
     "name": "stdout",
     "output_type": "stream",
     "text": [
      "\u001b[1m246/246\u001b[0m \u001b[32m━━━━━━━━━━━━━━━━━━━━\u001b[0m\u001b[37m\u001b[0m \u001b[1m193s\u001b[0m 760ms/step - loss: 0.7555 - mae: 0.6310 - val_loss: 0.5164 - val_mae: 0.4495 - learning_rate: 0.0010\n",
      "Epoch 2/100\n",
      "\u001b[1m246/246\u001b[0m \u001b[32m━━━━━━━━━━━━━━━━━━━━\u001b[0m\u001b[37m\u001b[0m \u001b[1m0s\u001b[0m 584ms/step - loss: 0.5854 - mae: 0.4502\n",
      "Epoch 2: val_mae improved from 0.44954 to 0.41722, saving model to best_hybrid_model.h5\n"
     ]
    },
    {
     "name": "stderr",
     "output_type": "stream",
     "text": [
      "WARNING:absl:You are saving your model as an HDF5 file via `model.save()` or `keras.saving.save_model(model)`. This file format is considered legacy. We recommend using instead the native Keras format, e.g. `model.save('my_model.keras')` or `keras.saving.save_model(model, 'my_model.keras')`. \n"
     ]
    },
    {
     "name": "stdout",
     "output_type": "stream",
     "text": [
      "\u001b[1m246/246\u001b[0m \u001b[32m━━━━━━━━━━━━━━━━━━━━\u001b[0m\u001b[37m\u001b[0m \u001b[1m151s\u001b[0m 615ms/step - loss: 0.5851 - mae: 0.4501 - val_loss: 0.4458 - val_mae: 0.4172 - learning_rate: 0.0010\n",
      "Epoch 3/100\n",
      "\u001b[1m246/246\u001b[0m \u001b[32m━━━━━━━━━━━━━━━━━━━━\u001b[0m\u001b[37m\u001b[0m \u001b[1m0s\u001b[0m 549ms/step - loss: 0.4806 - mae: 0.4097\n",
      "Epoch 3: val_mae improved from 0.41722 to 0.39337, saving model to best_hybrid_model.h5\n"
     ]
    },
    {
     "name": "stderr",
     "output_type": "stream",
     "text": [
      "WARNING:absl:You are saving your model as an HDF5 file via `model.save()` or `keras.saving.save_model(model)`. This file format is considered legacy. We recommend using instead the native Keras format, e.g. `model.save('my_model.keras')` or `keras.saving.save_model(model, 'my_model.keras')`. \n"
     ]
    },
    {
     "name": "stdout",
     "output_type": "stream",
     "text": [
      "\u001b[1m246/246\u001b[0m \u001b[32m━━━━━━━━━━━━━━━━━━━━\u001b[0m\u001b[37m\u001b[0m \u001b[1m143s\u001b[0m 581ms/step - loss: 0.4805 - mae: 0.4097 - val_loss: 0.4260 - val_mae: 0.3934 - learning_rate: 0.0010\n",
      "Epoch 4/100\n",
      "\u001b[1m246/246\u001b[0m \u001b[32m━━━━━━━━━━━━━━━━━━━━\u001b[0m\u001b[37m\u001b[0m \u001b[1m0s\u001b[0m 555ms/step - loss: 0.4376 - mae: 0.3922\n",
      "Epoch 4: val_mae improved from 0.39337 to 0.36671, saving model to best_hybrid_model.h5\n"
     ]
    },
    {
     "name": "stderr",
     "output_type": "stream",
     "text": [
      "WARNING:absl:You are saving your model as an HDF5 file via `model.save()` or `keras.saving.save_model(model)`. This file format is considered legacy. We recommend using instead the native Keras format, e.g. `model.save('my_model.keras')` or `keras.saving.save_model(model, 'my_model.keras')`. \n"
     ]
    },
    {
     "name": "stdout",
     "output_type": "stream",
     "text": [
      "\u001b[1m246/246\u001b[0m \u001b[32m━━━━━━━━━━━━━━━━━━━━\u001b[0m\u001b[37m\u001b[0m \u001b[1m145s\u001b[0m 588ms/step - loss: 0.4376 - mae: 0.3921 - val_loss: 0.3861 - val_mae: 0.3667 - learning_rate: 0.0010\n",
      "Epoch 5/100\n",
      "\u001b[1m246/246\u001b[0m \u001b[32m━━━━━━━━━━━━━━━━━━━━\u001b[0m\u001b[37m\u001b[0m \u001b[1m0s\u001b[0m 553ms/step - loss: 0.4136 - mae: 0.3598\n",
      "Epoch 5: val_mae improved from 0.36671 to 0.31779, saving model to best_hybrid_model.h5\n"
     ]
    },
    {
     "name": "stderr",
     "output_type": "stream",
     "text": [
      "WARNING:absl:You are saving your model as an HDF5 file via `model.save()` or `keras.saving.save_model(model)`. This file format is considered legacy. We recommend using instead the native Keras format, e.g. `model.save('my_model.keras')` or `keras.saving.save_model(model, 'my_model.keras')`. \n"
     ]
    },
    {
     "name": "stdout",
     "output_type": "stream",
     "text": [
      "\u001b[1m246/246\u001b[0m \u001b[32m━━━━━━━━━━━━━━━━━━━━\u001b[0m\u001b[37m\u001b[0m \u001b[1m144s\u001b[0m 585ms/step - loss: 0.4135 - mae: 0.3598 - val_loss: 0.3432 - val_mae: 0.3178 - learning_rate: 0.0010\n",
      "Epoch 6/100\n",
      "\u001b[1m246/246\u001b[0m \u001b[32m━━━━━━━━━━━━━━━━━━━━\u001b[0m\u001b[37m\u001b[0m \u001b[1m0s\u001b[0m 550ms/step - loss: 0.3447 - mae: 0.3305\n",
      "Epoch 6: val_mae did not improve from 0.31779\n",
      "\u001b[1m246/246\u001b[0m \u001b[32m━━━━━━━━━━━━━━━━━━━━\u001b[0m\u001b[37m\u001b[0m \u001b[1m143s\u001b[0m 583ms/step - loss: 0.3449 - mae: 0.3306 - val_loss: 0.3784 - val_mae: 0.3671 - learning_rate: 0.0010\n",
      "Epoch 7/100\n",
      "\u001b[1m246/246\u001b[0m \u001b[32m━━━━━━━━━━━━━━━━━━━━\u001b[0m\u001b[37m\u001b[0m \u001b[1m0s\u001b[0m 592ms/step - loss: 0.3734 - mae: 0.3359\n",
      "Epoch 7: val_mae did not improve from 0.31779\n",
      "\u001b[1m246/246\u001b[0m \u001b[32m━━━━━━━━━━━━━━━━━━━━\u001b[0m\u001b[37m\u001b[0m \u001b[1m153s\u001b[0m 623ms/step - loss: 0.3734 - mae: 0.3359 - val_loss: 0.3536 - val_mae: 0.3324 - learning_rate: 0.0010\n",
      "Epoch 8/100\n",
      "\u001b[1m246/246\u001b[0m \u001b[32m━━━━━━━━━━━━━━━━━━━━\u001b[0m\u001b[37m\u001b[0m \u001b[1m0s\u001b[0m 550ms/step - loss: 0.3715 - mae: 0.3215\n",
      "Epoch 8: val_mae improved from 0.31779 to 0.31382, saving model to best_hybrid_model.h5\n"
     ]
    },
    {
     "name": "stderr",
     "output_type": "stream",
     "text": [
      "WARNING:absl:You are saving your model as an HDF5 file via `model.save()` or `keras.saving.save_model(model)`. This file format is considered legacy. We recommend using instead the native Keras format, e.g. `model.save('my_model.keras')` or `keras.saving.save_model(model, 'my_model.keras')`. \n"
     ]
    },
    {
     "name": "stdout",
     "output_type": "stream",
     "text": [
      "\u001b[1m246/246\u001b[0m \u001b[32m━━━━━━━━━━━━━━━━━━━━\u001b[0m\u001b[37m\u001b[0m \u001b[1m143s\u001b[0m 581ms/step - loss: 0.3715 - mae: 0.3215 - val_loss: 0.3315 - val_mae: 0.3138 - learning_rate: 0.0010\n",
      "Epoch 9/100\n",
      "\u001b[1m246/246\u001b[0m \u001b[32m━━━━━━━━━━━━━━━━━━━━\u001b[0m\u001b[37m\u001b[0m \u001b[1m0s\u001b[0m 557ms/step - loss: 0.3643 - mae: 0.3219\n",
      "Epoch 9: val_mae did not improve from 0.31382\n",
      "\u001b[1m246/246\u001b[0m \u001b[32m━━━━━━━━━━━━━━━━━━━━\u001b[0m\u001b[37m\u001b[0m \u001b[1m145s\u001b[0m 589ms/step - loss: 0.3643 - mae: 0.3219 - val_loss: 0.3431 - val_mae: 0.3361 - learning_rate: 0.0010\n",
      "Epoch 10/100\n",
      "\u001b[1m246/246\u001b[0m \u001b[32m━━━━━━━━━━━━━━━━━━━━\u001b[0m\u001b[37m\u001b[0m \u001b[1m0s\u001b[0m 559ms/step - loss: 0.3996 - mae: 0.3174\n",
      "Epoch 10: val_mae improved from 0.31382 to 0.30368, saving model to best_hybrid_model.h5\n"
     ]
    },
    {
     "name": "stderr",
     "output_type": "stream",
     "text": [
      "WARNING:absl:You are saving your model as an HDF5 file via `model.save()` or `keras.saving.save_model(model)`. This file format is considered legacy. We recommend using instead the native Keras format, e.g. `model.save('my_model.keras')` or `keras.saving.save_model(model, 'my_model.keras')`. \n"
     ]
    },
    {
     "name": "stdout",
     "output_type": "stream",
     "text": [
      "\u001b[1m246/246\u001b[0m \u001b[32m━━━━━━━━━━━━━━━━━━━━\u001b[0m\u001b[37m\u001b[0m \u001b[1m146s\u001b[0m 592ms/step - loss: 0.3994 - mae: 0.3174 - val_loss: 0.3242 - val_mae: 0.3037 - learning_rate: 0.0010\n",
      "Epoch 11/100\n",
      "\u001b[1m246/246\u001b[0m \u001b[32m━━━━━━━━━━━━━━━━━━━━\u001b[0m\u001b[37m\u001b[0m \u001b[1m0s\u001b[0m 558ms/step - loss: 0.3355 - mae: 0.3001\n",
      "Epoch 11: val_mae improved from 0.30368 to 0.29812, saving model to best_hybrid_model.h5\n"
     ]
    },
    {
     "name": "stderr",
     "output_type": "stream",
     "text": [
      "WARNING:absl:You are saving your model as an HDF5 file via `model.save()` or `keras.saving.save_model(model)`. This file format is considered legacy. We recommend using instead the native Keras format, e.g. `model.save('my_model.keras')` or `keras.saving.save_model(model, 'my_model.keras')`. \n"
     ]
    },
    {
     "name": "stdout",
     "output_type": "stream",
     "text": [
      "\u001b[1m246/246\u001b[0m \u001b[32m━━━━━━━━━━━━━━━━━━━━\u001b[0m\u001b[37m\u001b[0m \u001b[1m145s\u001b[0m 589ms/step - loss: 0.3356 - mae: 0.3001 - val_loss: 0.3248 - val_mae: 0.2981 - learning_rate: 0.0010\n",
      "Epoch 12/100\n",
      "\u001b[1m246/246\u001b[0m \u001b[32m━━━━━━━━━━━━━━━━━━━━\u001b[0m\u001b[37m\u001b[0m \u001b[1m0s\u001b[0m 545ms/step - loss: 0.4149 - mae: 0.3147\n",
      "Epoch 12: val_mae improved from 0.29812 to 0.29068, saving model to best_hybrid_model.h5\n"
     ]
    },
    {
     "name": "stderr",
     "output_type": "stream",
     "text": [
      "WARNING:absl:You are saving your model as an HDF5 file via `model.save()` or `keras.saving.save_model(model)`. This file format is considered legacy. We recommend using instead the native Keras format, e.g. `model.save('my_model.keras')` or `keras.saving.save_model(model, 'my_model.keras')`. \n"
     ]
    },
    {
     "name": "stdout",
     "output_type": "stream",
     "text": [
      "\u001b[1m246/246\u001b[0m \u001b[32m━━━━━━━━━━━━━━━━━━━━\u001b[0m\u001b[37m\u001b[0m \u001b[1m142s\u001b[0m 577ms/step - loss: 0.4147 - mae: 0.3146 - val_loss: 0.3114 - val_mae: 0.2907 - learning_rate: 0.0010\n",
      "Epoch 13/100\n",
      "\u001b[1m246/246\u001b[0m \u001b[32m━━━━━━━━━━━━━━━━━━━━\u001b[0m\u001b[37m\u001b[0m \u001b[1m0s\u001b[0m 555ms/step - loss: 0.3989 - mae: 0.3228\n",
      "Epoch 13: val_mae improved from 0.29068 to 0.28245, saving model to best_hybrid_model.h5\n"
     ]
    },
    {
     "name": "stderr",
     "output_type": "stream",
     "text": [
      "WARNING:absl:You are saving your model as an HDF5 file via `model.save()` or `keras.saving.save_model(model)`. This file format is considered legacy. We recommend using instead the native Keras format, e.g. `model.save('my_model.keras')` or `keras.saving.save_model(model, 'my_model.keras')`. \n"
     ]
    },
    {
     "name": "stdout",
     "output_type": "stream",
     "text": [
      "\u001b[1m246/246\u001b[0m \u001b[32m━━━━━━━━━━━━━━━━━━━━\u001b[0m\u001b[37m\u001b[0m \u001b[1m145s\u001b[0m 587ms/step - loss: 0.3987 - mae: 0.3227 - val_loss: 0.3070 - val_mae: 0.2825 - learning_rate: 0.0010\n",
      "Epoch 14/100\n",
      "\u001b[1m246/246\u001b[0m \u001b[32m━━━━━━━━━━━━━━━━━━━━\u001b[0m\u001b[37m\u001b[0m \u001b[1m0s\u001b[0m 574ms/step - loss: 0.3114 - mae: 0.2932\n",
      "Epoch 14: val_mae did not improve from 0.28245\n",
      "\u001b[1m246/246\u001b[0m \u001b[32m━━━━━━━━━━━━━━━━━━━━\u001b[0m\u001b[37m\u001b[0m \u001b[1m149s\u001b[0m 605ms/step - loss: 0.3116 - mae: 0.2933 - val_loss: 0.3629 - val_mae: 0.3546 - learning_rate: 0.0010\n",
      "Epoch 15/100\n",
      "\u001b[1m246/246\u001b[0m \u001b[32m━━━━━━━━━━━━━━━━━━━━\u001b[0m\u001b[37m\u001b[0m \u001b[1m0s\u001b[0m 552ms/step - loss: 0.3709 - mae: 0.3132\n",
      "Epoch 15: val_mae did not improve from 0.28245\n",
      "\u001b[1m246/246\u001b[0m \u001b[32m━━━━━━━━━━━━━━━━━━━━\u001b[0m\u001b[37m\u001b[0m \u001b[1m143s\u001b[0m 583ms/step - loss: 0.3708 - mae: 0.3132 - val_loss: 0.3335 - val_mae: 0.3215 - learning_rate: 0.0010\n",
      "Epoch 16/100\n",
      "\u001b[1m246/246\u001b[0m \u001b[32m━━━━━━━━━━━━━━━━━━━━\u001b[0m\u001b[37m\u001b[0m \u001b[1m0s\u001b[0m 564ms/step - loss: 0.4006 - mae: 0.3207\n",
      "Epoch 16: val_mae did not improve from 0.28245\n",
      "\u001b[1m246/246\u001b[0m \u001b[32m━━━━━━━━━━━━━━━━━━━━\u001b[0m\u001b[37m\u001b[0m \u001b[1m147s\u001b[0m 596ms/step - loss: 0.4005 - mae: 0.3207 - val_loss: 0.3158 - val_mae: 0.3008 - learning_rate: 0.0010\n",
      "Epoch 17/100\n",
      "\u001b[1m246/246\u001b[0m \u001b[32m━━━━━━━━━━━━━━━━━━━━\u001b[0m\u001b[37m\u001b[0m \u001b[1m0s\u001b[0m 562ms/step - loss: 0.3874 - mae: 0.3058\n",
      "Epoch 17: val_mae did not improve from 0.28245\n",
      "\n",
      "Epoch 17: ReduceLROnPlateau reducing learning rate to 0.0005000000237487257.\n",
      "\u001b[1m246/246\u001b[0m \u001b[32m━━━━━━━━━━━━━━━━━━━━\u001b[0m\u001b[37m\u001b[0m \u001b[1m146s\u001b[0m 594ms/step - loss: 0.3872 - mae: 0.3058 - val_loss: 0.3597 - val_mae: 0.3439 - learning_rate: 0.0010\n",
      "Epoch 18/100\n",
      "\u001b[1m246/246\u001b[0m \u001b[32m━━━━━━━━━━━━━━━━━━━━\u001b[0m\u001b[37m\u001b[0m \u001b[1m0s\u001b[0m 730ms/step - loss: 0.3621 - mae: 0.3088\n",
      "Epoch 18: val_mae did not improve from 0.28245\n",
      "\u001b[1m246/246\u001b[0m \u001b[32m━━━━━━━━━━━━━━━━━━━━\u001b[0m\u001b[37m\u001b[0m \u001b[1m196s\u001b[0m 796ms/step - loss: 0.3620 - mae: 0.3088 - val_loss: 0.3043 - val_mae: 0.2867 - learning_rate: 5.0000e-04\n",
      "Epoch 19/100\n",
      "\u001b[1m246/246\u001b[0m \u001b[32m━━━━━━━━━━━━━━━━━━━━\u001b[0m\u001b[37m\u001b[0m \u001b[1m0s\u001b[0m 932ms/step - loss: 0.3505 - mae: 0.2931\n",
      "Epoch 19: val_mae improved from 0.28245 to 0.27699, saving model to best_hybrid_model.h5\n"
     ]
    },
    {
     "name": "stderr",
     "output_type": "stream",
     "text": [
      "WARNING:absl:You are saving your model as an HDF5 file via `model.save()` or `keras.saving.save_model(model)`. This file format is considered legacy. We recommend using instead the native Keras format, e.g. `model.save('my_model.keras')` or `keras.saving.save_model(model, 'my_model.keras')`. \n"
     ]
    },
    {
     "name": "stdout",
     "output_type": "stream",
     "text": [
      "\u001b[1m246/246\u001b[0m \u001b[32m━━━━━━━━━━━━━━━━━━━━\u001b[0m\u001b[37m\u001b[0m \u001b[1m237s\u001b[0m 964ms/step - loss: 0.3505 - mae: 0.2931 - val_loss: 0.2996 - val_mae: 0.2770 - learning_rate: 5.0000e-04\n",
      "Epoch 20/100\n",
      "\u001b[1m246/246\u001b[0m \u001b[32m━━━━━━━━━━━━━━━━━━━━\u001b[0m\u001b[37m\u001b[0m \u001b[1m0s\u001b[0m 567ms/step - loss: 0.3058 - mae: 0.2826\n",
      "Epoch 20: val_mae did not improve from 0.27699\n",
      "\u001b[1m246/246\u001b[0m \u001b[32m━━━━━━━━━━━━━━━━━━━━\u001b[0m\u001b[37m\u001b[0m \u001b[1m148s\u001b[0m 600ms/step - loss: 0.3059 - mae: 0.2827 - val_loss: 0.3123 - val_mae: 0.2979 - learning_rate: 5.0000e-04\n",
      "Epoch 21/100\n",
      "\u001b[1m246/246\u001b[0m \u001b[32m━━━━━━━━━━━━━━━━━━━━\u001b[0m\u001b[37m\u001b[0m \u001b[1m0s\u001b[0m 748ms/step - loss: 0.3380 - mae: 0.2919\n",
      "Epoch 21: val_mae did not improve from 0.27699\n",
      "\u001b[1m246/246\u001b[0m \u001b[32m━━━━━━━━━━━━━━━━━━━━\u001b[0m\u001b[37m\u001b[0m \u001b[1m200s\u001b[0m 814ms/step - loss: 0.3380 - mae: 0.2918 - val_loss: 0.2998 - val_mae: 0.2876 - learning_rate: 5.0000e-04\n",
      "Epoch 22/100\n",
      "\u001b[1m246/246\u001b[0m \u001b[32m━━━━━━━━━━━━━━━━━━━━\u001b[0m\u001b[37m\u001b[0m \u001b[1m0s\u001b[0m 1s/step - loss: 0.3282 - mae: 0.2861\n",
      "Epoch 22: val_mae did not improve from 0.27699\n",
      "\u001b[1m246/246\u001b[0m \u001b[32m━━━━━━━━━━━━━━━━━━━━\u001b[0m\u001b[37m\u001b[0m \u001b[1m302s\u001b[0m 1s/step - loss: 0.3282 - mae: 0.2861 - val_loss: 0.3298 - val_mae: 0.3116 - learning_rate: 5.0000e-04\n",
      "Epoch 23/100\n",
      "\u001b[1m246/246\u001b[0m \u001b[32m━━━━━━━━━━━━━━━━━━━━\u001b[0m\u001b[37m\u001b[0m \u001b[1m0s\u001b[0m 1s/step - loss: 0.3546 - mae: 0.2983\n",
      "Epoch 23: val_mae improved from 0.27699 to 0.27514, saving model to best_hybrid_model.h5\n"
     ]
    },
    {
     "name": "stderr",
     "output_type": "stream",
     "text": [
      "WARNING:absl:You are saving your model as an HDF5 file via `model.save()` or `keras.saving.save_model(model)`. This file format is considered legacy. We recommend using instead the native Keras format, e.g. `model.save('my_model.keras')` or `keras.saving.save_model(model, 'my_model.keras')`. \n"
     ]
    },
    {
     "name": "stdout",
     "output_type": "stream",
     "text": [
      "\u001b[1m246/246\u001b[0m \u001b[32m━━━━━━━━━━━━━━━━━━━━\u001b[0m\u001b[37m\u001b[0m \u001b[1m300s\u001b[0m 1s/step - loss: 0.3545 - mae: 0.2983 - val_loss: 0.2958 - val_mae: 0.2751 - learning_rate: 5.0000e-04\n",
      "Epoch 24/100\n",
      "\u001b[1m246/246\u001b[0m \u001b[32m━━━━━━━━━━━━━━━━━━━━\u001b[0m\u001b[37m\u001b[0m \u001b[1m0s\u001b[0m 620ms/step - loss: 0.3052 - mae: 0.2746\n",
      "Epoch 24: val_mae improved from 0.27514 to 0.26990, saving model to best_hybrid_model.h5\n"
     ]
    },
    {
     "name": "stderr",
     "output_type": "stream",
     "text": [
      "WARNING:absl:You are saving your model as an HDF5 file via `model.save()` or `keras.saving.save_model(model)`. This file format is considered legacy. We recommend using instead the native Keras format, e.g. `model.save('my_model.keras')` or `keras.saving.save_model(model, 'my_model.keras')`. \n"
     ]
    },
    {
     "name": "stdout",
     "output_type": "stream",
     "text": [
      "\u001b[1m246/246\u001b[0m \u001b[32m━━━━━━━━━━━━━━━━━━━━\u001b[0m\u001b[37m\u001b[0m \u001b[1m161s\u001b[0m 652ms/step - loss: 0.3053 - mae: 0.2746 - val_loss: 0.2942 - val_mae: 0.2699 - learning_rate: 5.0000e-04\n",
      "Epoch 25/100\n",
      "\u001b[1m246/246\u001b[0m \u001b[32m━━━━━━━━━━━━━━━━━━━━\u001b[0m\u001b[37m\u001b[0m \u001b[1m0s\u001b[0m 709ms/step - loss: 0.3334 - mae: 0.2818\n",
      "Epoch 25: val_mae did not improve from 0.26990\n",
      "\u001b[1m246/246\u001b[0m \u001b[32m━━━━━━━━━━━━━━━━━━━━\u001b[0m\u001b[37m\u001b[0m \u001b[1m191s\u001b[0m 775ms/step - loss: 0.3334 - mae: 0.2818 - val_loss: 0.3121 - val_mae: 0.2890 - learning_rate: 5.0000e-04\n",
      "Epoch 26/100\n",
      "\u001b[1m246/246\u001b[0m \u001b[32m━━━━━━━━━━━━━━━━━━━━\u001b[0m\u001b[37m\u001b[0m \u001b[1m0s\u001b[0m 1s/step - loss: 0.3134 - mae: 0.2887\n",
      "Epoch 26: val_mae did not improve from 0.26990\n",
      "\u001b[1m246/246\u001b[0m \u001b[32m━━━━━━━━━━━━━━━━━━━━\u001b[0m\u001b[37m\u001b[0m \u001b[1m305s\u001b[0m 1s/step - loss: 0.3135 - mae: 0.2886 - val_loss: 0.3010 - val_mae: 0.2802 - learning_rate: 5.0000e-04\n",
      "Epoch 27/100\n",
      "\u001b[1m246/246\u001b[0m \u001b[32m━━━━━━━━━━━━━━━━━━━━\u001b[0m\u001b[37m\u001b[0m \u001b[1m0s\u001b[0m 1s/step - loss: 0.2971 - mae: 0.2799\n",
      "Epoch 27: val_mae did not improve from 0.26990\n",
      "\u001b[1m246/246\u001b[0m \u001b[32m━━━━━━━━━━━━━━━━━━━━\u001b[0m\u001b[37m\u001b[0m \u001b[1m306s\u001b[0m 1s/step - loss: 0.2973 - mae: 0.2799 - val_loss: 0.3287 - val_mae: 0.3183 - learning_rate: 5.0000e-04\n",
      "Epoch 28/100\n",
      "\u001b[1m246/246\u001b[0m \u001b[32m━━━━━━━━━━━━━━━━━━━━\u001b[0m\u001b[37m\u001b[0m \u001b[1m0s\u001b[0m 1s/step - loss: 0.3238 - mae: 0.2880\n",
      "Epoch 28: val_mae did not improve from 0.26990\n",
      "\n",
      "Epoch 28: ReduceLROnPlateau reducing learning rate to 0.0002500000118743628.\n",
      "\u001b[1m246/246\u001b[0m \u001b[32m━━━━━━━━━━━━━━━━━━━━\u001b[0m\u001b[37m\u001b[0m \u001b[1m307s\u001b[0m 1s/step - loss: 0.3238 - mae: 0.2880 - val_loss: 0.3100 - val_mae: 0.2919 - learning_rate: 5.0000e-04\n",
      "Epoch 29/100\n",
      "\u001b[1m246/246\u001b[0m \u001b[32m━━━━━━━━━━━━━━━━━━━━\u001b[0m\u001b[37m\u001b[0m \u001b[1m0s\u001b[0m 711ms/step - loss: 0.3581 - mae: 0.2805\n",
      "Epoch 29: val_mae improved from 0.26990 to 0.26838, saving model to best_hybrid_model.h5\n"
     ]
    },
    {
     "name": "stderr",
     "output_type": "stream",
     "text": [
      "WARNING:absl:You are saving your model as an HDF5 file via `model.save()` or `keras.saving.save_model(model)`. This file format is considered legacy. We recommend using instead the native Keras format, e.g. `model.save('my_model.keras')` or `keras.saving.save_model(model, 'my_model.keras')`. \n"
     ]
    },
    {
     "name": "stdout",
     "output_type": "stream",
     "text": [
      "\u001b[1m246/246\u001b[0m \u001b[32m━━━━━━━━━━━━━━━━━━━━\u001b[0m\u001b[37m\u001b[0m \u001b[1m184s\u001b[0m 744ms/step - loss: 0.3579 - mae: 0.2805 - val_loss: 0.2899 - val_mae: 0.2684 - learning_rate: 2.5000e-04\n",
      "Epoch 30/100\n",
      "\u001b[1m246/246\u001b[0m \u001b[32m━━━━━━━━━━━━━━━━━━━━\u001b[0m\u001b[37m\u001b[0m \u001b[1m0s\u001b[0m 639ms/step - loss: 0.3601 - mae: 0.2868\n",
      "Epoch 30: val_mae did not improve from 0.26838\n",
      "\u001b[1m246/246\u001b[0m \u001b[32m━━━━━━━━━━━━━━━━━━━━\u001b[0m\u001b[37m\u001b[0m \u001b[1m174s\u001b[0m 706ms/step - loss: 0.3599 - mae: 0.2867 - val_loss: 0.2943 - val_mae: 0.2694 - learning_rate: 2.5000e-04\n",
      "Epoch 31/100\n",
      "\u001b[1m246/246\u001b[0m \u001b[32m━━━━━━━━━━━━━━━━━━━━\u001b[0m\u001b[37m\u001b[0m \u001b[1m0s\u001b[0m 1s/step - loss: 0.3611 - mae: 0.2728\n",
      "Epoch 31: val_mae improved from 0.26838 to 0.26420, saving model to best_hybrid_model.h5\n"
     ]
    },
    {
     "name": "stderr",
     "output_type": "stream",
     "text": [
      "WARNING:absl:You are saving your model as an HDF5 file via `model.save()` or `keras.saving.save_model(model)`. This file format is considered legacy. We recommend using instead the native Keras format, e.g. `model.save('my_model.keras')` or `keras.saving.save_model(model, 'my_model.keras')`. \n"
     ]
    },
    {
     "name": "stdout",
     "output_type": "stream",
     "text": [
      "\u001b[1m246/246\u001b[0m \u001b[32m━━━━━━━━━━━━━━━━━━━━\u001b[0m\u001b[37m\u001b[0m \u001b[1m300s\u001b[0m 1s/step - loss: 0.3609 - mae: 0.2728 - val_loss: 0.2882 - val_mae: 0.2642 - learning_rate: 2.5000e-04\n",
      "Epoch 32/100\n",
      "\u001b[1m246/246\u001b[0m \u001b[32m━━━━━━━━━━━━━━━━━━━━\u001b[0m\u001b[37m\u001b[0m \u001b[1m0s\u001b[0m 1s/step - loss: 0.2872 - mae: 0.2654\n",
      "Epoch 32: val_mae improved from 0.26420 to 0.26386, saving model to best_hybrid_model.h5\n"
     ]
    },
    {
     "name": "stderr",
     "output_type": "stream",
     "text": [
      "WARNING:absl:You are saving your model as an HDF5 file via `model.save()` or `keras.saving.save_model(model)`. This file format is considered legacy. We recommend using instead the native Keras format, e.g. `model.save('my_model.keras')` or `keras.saving.save_model(model, 'my_model.keras')`. \n"
     ]
    },
    {
     "name": "stdout",
     "output_type": "stream",
     "text": [
      "\u001b[1m246/246\u001b[0m \u001b[32m━━━━━━━━━━━━━━━━━━━━\u001b[0m\u001b[37m\u001b[0m \u001b[1m289s\u001b[0m 1s/step - loss: 0.2872 - mae: 0.2654 - val_loss: 0.2891 - val_mae: 0.2639 - learning_rate: 2.5000e-04\n",
      "Epoch 33/100\n",
      "\u001b[1m246/246\u001b[0m \u001b[32m━━━━━━━━━━━━━━━━━━━━\u001b[0m\u001b[37m\u001b[0m \u001b[1m0s\u001b[0m 570ms/step - loss: 0.3194 - mae: 0.2682\n",
      "Epoch 33: val_mae did not improve from 0.26386\n",
      "\u001b[1m246/246\u001b[0m \u001b[32m━━━━━━━━━━━━━━━━━━━━\u001b[0m\u001b[37m\u001b[0m \u001b[1m148s\u001b[0m 604ms/step - loss: 0.3193 - mae: 0.2682 - val_loss: 0.2893 - val_mae: 0.2674 - learning_rate: 2.5000e-04\n",
      "Epoch 34/100\n",
      "\u001b[1m246/246\u001b[0m \u001b[32m━━━━━━━━━━━━━━━━━━━━\u001b[0m\u001b[37m\u001b[0m \u001b[1m0s\u001b[0m 830ms/step - loss: 0.2628 - mae: 0.2565\n",
      "Epoch 34: val_mae did not improve from 0.26386\n",
      "\u001b[1m246/246\u001b[0m \u001b[32m━━━━━━━━━━━━━━━━━━━━\u001b[0m\u001b[37m\u001b[0m \u001b[1m220s\u001b[0m 897ms/step - loss: 0.2630 - mae: 0.2565 - val_loss: 0.2942 - val_mae: 0.2737 - learning_rate: 2.5000e-04\n",
      "Epoch 35/100\n",
      "\u001b[1m246/246\u001b[0m \u001b[32m━━━━━━━━━━━━━━━━━━━━\u001b[0m\u001b[37m\u001b[0m \u001b[1m0s\u001b[0m 576ms/step - loss: 0.2898 - mae: 0.2689\n",
      "Epoch 35: val_mae did not improve from 0.26386\n",
      "\u001b[1m246/246\u001b[0m \u001b[32m━━━━━━━━━━━━━━━━━━━━\u001b[0m\u001b[37m\u001b[0m \u001b[1m150s\u001b[0m 608ms/step - loss: 0.2899 - mae: 0.2689 - val_loss: 0.2883 - val_mae: 0.2649 - learning_rate: 2.5000e-04\n",
      "Epoch 36/100\n",
      "\u001b[1m246/246\u001b[0m \u001b[32m━━━━━━━━━━━━━━━━━━━━\u001b[0m\u001b[37m\u001b[0m \u001b[1m0s\u001b[0m 840ms/step - loss: 0.2666 - mae: 0.2598\n",
      "Epoch 36: val_mae improved from 0.26386 to 0.26340, saving model to best_hybrid_model.h5\n"
     ]
    },
    {
     "name": "stderr",
     "output_type": "stream",
     "text": [
      "WARNING:absl:You are saving your model as an HDF5 file via `model.save()` or `keras.saving.save_model(model)`. This file format is considered legacy. We recommend using instead the native Keras format, e.g. `model.save('my_model.keras')` or `keras.saving.save_model(model, 'my_model.keras')`. \n"
     ]
    },
    {
     "name": "stdout",
     "output_type": "stream",
     "text": [
      "\u001b[1m246/246\u001b[0m \u001b[32m━━━━━━━━━━━━━━━━━━━━\u001b[0m\u001b[37m\u001b[0m \u001b[1m227s\u001b[0m 923ms/step - loss: 0.2667 - mae: 0.2599 - val_loss: 0.2869 - val_mae: 0.2634 - learning_rate: 2.5000e-04\n",
      "Epoch 37/100\n",
      "\u001b[1m246/246\u001b[0m \u001b[32m━━━━━━━━━━━━━━━━━━━━\u001b[0m\u001b[37m\u001b[0m \u001b[1m0s\u001b[0m 567ms/step - loss: 0.2503 - mae: 0.2554\n",
      "Epoch 37: val_mae did not improve from 0.26340\n",
      "\u001b[1m246/246\u001b[0m \u001b[32m━━━━━━━━━━━━━━━━━━━━\u001b[0m\u001b[37m\u001b[0m \u001b[1m184s\u001b[0m 600ms/step - loss: 0.2505 - mae: 0.2554 - val_loss: 0.2868 - val_mae: 0.2655 - learning_rate: 2.5000e-04\n",
      "Epoch 38/100\n",
      "\u001b[1m246/246\u001b[0m \u001b[32m━━━━━━━━━━━━━━━━━━━━\u001b[0m\u001b[37m\u001b[0m \u001b[1m0s\u001b[0m 832ms/step - loss: 0.2416 - mae: 0.2516\n",
      "Epoch 38: val_mae did not improve from 0.26340\n",
      "\u001b[1m246/246\u001b[0m \u001b[32m━━━━━━━━━━━━━━━━━━━━\u001b[0m\u001b[37m\u001b[0m \u001b[1m224s\u001b[0m 912ms/step - loss: 0.2418 - mae: 0.2517 - val_loss: 0.2894 - val_mae: 0.2705 - learning_rate: 2.5000e-04\n",
      "Epoch 39/100\n",
      "\u001b[1m246/246\u001b[0m \u001b[32m━━━━━━━━━━━━━━━━━━━━\u001b[0m\u001b[37m\u001b[0m \u001b[1m0s\u001b[0m 1s/step - loss: 0.3355 - mae: 0.2822\n",
      "Epoch 39: val_mae did not improve from 0.26340\n",
      "\u001b[1m246/246\u001b[0m \u001b[32m━━━━━━━━━━━━━━━━━━━━\u001b[0m\u001b[37m\u001b[0m \u001b[1m369s\u001b[0m 1s/step - loss: 0.3353 - mae: 0.2822 - val_loss: 0.2895 - val_mae: 0.2729 - learning_rate: 2.5000e-04\n",
      "Epoch 40/100\n",
      "\u001b[1m246/246\u001b[0m \u001b[32m━━━━━━━━━━━━━━━━━━━━\u001b[0m\u001b[37m\u001b[0m \u001b[1m0s\u001b[0m 1s/step - loss: 0.3180 - mae: 0.2710\n",
      "Epoch 40: val_mae did not improve from 0.26340\n",
      "\n",
      "Epoch 40: ReduceLROnPlateau reducing learning rate to 0.0001250000059371814.\n",
      "\u001b[1m246/246\u001b[0m \u001b[32m━━━━━━━━━━━━━━━━━━━━\u001b[0m\u001b[37m\u001b[0m \u001b[1m315s\u001b[0m 1s/step - loss: 0.3179 - mae: 0.2710 - val_loss: 0.2897 - val_mae: 0.2683 - learning_rate: 2.5000e-04\n",
      "Epoch 41/100\n",
      "\u001b[1m246/246\u001b[0m \u001b[32m━━━━━━━━━━━━━━━━━━━━\u001b[0m\u001b[37m\u001b[0m \u001b[1m0s\u001b[0m 564ms/step - loss: 0.2374 - mae: 0.2478\n",
      "Epoch 41: val_mae did not improve from 0.26340\n",
      "\u001b[1m246/246\u001b[0m \u001b[32m━━━━━━━━━━━━━━━━━━━━\u001b[0m\u001b[37m\u001b[0m \u001b[1m147s\u001b[0m 597ms/step - loss: 0.2376 - mae: 0.2478 - val_loss: 0.2859 - val_mae: 0.2662 - learning_rate: 1.2500e-04\n",
      "Epoch 42/100\n",
      "\u001b[1m246/246\u001b[0m \u001b[32m━━━━━━━━━━━━━━━━━━━━\u001b[0m\u001b[37m\u001b[0m \u001b[1m0s\u001b[0m 922ms/step - loss: 0.3298 - mae: 0.2604\n",
      "Epoch 42: val_mae improved from 0.26340 to 0.25727, saving model to best_hybrid_model.h5\n"
     ]
    },
    {
     "name": "stderr",
     "output_type": "stream",
     "text": [
      "WARNING:absl:You are saving your model as an HDF5 file via `model.save()` or `keras.saving.save_model(model)`. This file format is considered legacy. We recommend using instead the native Keras format, e.g. `model.save('my_model.keras')` or `keras.saving.save_model(model, 'my_model.keras')`. \n"
     ]
    },
    {
     "name": "stdout",
     "output_type": "stream",
     "text": [
      "\u001b[1m246/246\u001b[0m \u001b[32m━━━━━━━━━━━━━━━━━━━━\u001b[0m\u001b[37m\u001b[0m \u001b[1m247s\u001b[0m 1s/step - loss: 0.3296 - mae: 0.2604 - val_loss: 0.2817 - val_mae: 0.2573 - learning_rate: 1.2500e-04\n",
      "Epoch 43/100\n",
      "\u001b[1m246/246\u001b[0m \u001b[32m━━━━━━━━━━━━━━━━━━━━\u001b[0m\u001b[37m\u001b[0m \u001b[1m0s\u001b[0m 1s/step - loss: 0.3264 - mae: 0.2595\n",
      "Epoch 43: val_mae improved from 0.25727 to 0.25431, saving model to best_hybrid_model.h5\n"
     ]
    },
    {
     "name": "stderr",
     "output_type": "stream",
     "text": [
      "WARNING:absl:You are saving your model as an HDF5 file via `model.save()` or `keras.saving.save_model(model)`. This file format is considered legacy. We recommend using instead the native Keras format, e.g. `model.save('my_model.keras')` or `keras.saving.save_model(model, 'my_model.keras')`. \n"
     ]
    },
    {
     "name": "stdout",
     "output_type": "stream",
     "text": [
      "\u001b[1m246/246\u001b[0m \u001b[32m━━━━━━━━━━━━━━━━━━━━\u001b[0m\u001b[37m\u001b[0m \u001b[1m366s\u001b[0m 1s/step - loss: 0.3262 - mae: 0.2595 - val_loss: 0.2805 - val_mae: 0.2543 - learning_rate: 1.2500e-04\n",
      "Epoch 44/100\n",
      "\u001b[1m246/246\u001b[0m \u001b[32m━━━━━━━━━━━━━━━━━━━━\u001b[0m\u001b[37m\u001b[0m \u001b[1m0s\u001b[0m 1s/step - loss: 0.2400 - mae: 0.2470\n",
      "Epoch 44: val_mae did not improve from 0.25431\n",
      "\u001b[1m246/246\u001b[0m \u001b[32m━━━━━━━━━━━━━━━━━━━━\u001b[0m\u001b[37m\u001b[0m \u001b[1m373s\u001b[0m 2s/step - loss: 0.2402 - mae: 0.2471 - val_loss: 0.2817 - val_mae: 0.2588 - learning_rate: 1.2500e-04\n",
      "Epoch 45/100\n",
      "\u001b[1m246/246\u001b[0m \u001b[32m━━━━━━━━━━━━━━━━━━━━\u001b[0m\u001b[37m\u001b[0m \u001b[1m0s\u001b[0m 8s/step - loss: 0.2500 - mae: 0.2467\n",
      "Epoch 45: val_mae did not improve from 0.25431\n",
      "\u001b[1m246/246\u001b[0m \u001b[32m━━━━━━━━━━━━━━━━━━━━\u001b[0m\u001b[37m\u001b[0m \u001b[1m2019s\u001b[0m 8s/step - loss: 0.2501 - mae: 0.2467 - val_loss: 0.2816 - val_mae: 0.2657 - learning_rate: 1.2500e-04\n",
      "Epoch 46/100\n",
      "\u001b[1m246/246\u001b[0m \u001b[32m━━━━━━━━━━━━━━━━━━━━\u001b[0m\u001b[37m\u001b[0m \u001b[1m0s\u001b[0m 562ms/step - loss: 0.3335 - mae: 0.2655\n",
      "Epoch 46: val_mae did not improve from 0.25431\n",
      "\u001b[1m246/246\u001b[0m \u001b[32m━━━━━━━━━━━━━━━━━━━━\u001b[0m\u001b[37m\u001b[0m \u001b[1m146s\u001b[0m 593ms/step - loss: 0.3332 - mae: 0.2654 - val_loss: 0.2815 - val_mae: 0.2590 - learning_rate: 1.2500e-04\n",
      "Epoch 47/100\n",
      "\u001b[1m246/246\u001b[0m \u001b[32m━━━━━━━━━━━━━━━━━━━━\u001b[0m\u001b[37m\u001b[0m \u001b[1m0s\u001b[0m 558ms/step - loss: 0.2632 - mae: 0.2535\n",
      "Epoch 47: val_mae did not improve from 0.25431\n",
      "\n",
      "Epoch 47: ReduceLROnPlateau reducing learning rate to 6.25000029685907e-05.\n",
      "\u001b[1m246/246\u001b[0m \u001b[32m━━━━━━━━━━━━━━━━━━━━\u001b[0m\u001b[37m\u001b[0m \u001b[1m145s\u001b[0m 591ms/step - loss: 0.2633 - mae: 0.2535 - val_loss: 0.2818 - val_mae: 0.2632 - learning_rate: 1.2500e-04\n",
      "Epoch 48/100\n",
      "\u001b[1m246/246\u001b[0m \u001b[32m━━━━━━━━━━━━━━━━━━━━\u001b[0m\u001b[37m\u001b[0m \u001b[1m0s\u001b[0m 572ms/step - loss: 0.2328 - mae: 0.2477\n",
      "Epoch 48: val_mae did not improve from 0.25431\n",
      "\u001b[1m246/246\u001b[0m \u001b[32m━━━━━━━━━━━━━━━━━━━━\u001b[0m\u001b[37m\u001b[0m \u001b[1m149s\u001b[0m 605ms/step - loss: 0.2329 - mae: 0.2478 - val_loss: 0.2800 - val_mae: 0.2549 - learning_rate: 6.2500e-05\n",
      "Epoch 49/100\n",
      "\u001b[1m246/246\u001b[0m \u001b[32m━━━━━━━━━━━━━━━━━━━━\u001b[0m\u001b[37m\u001b[0m \u001b[1m0s\u001b[0m 569ms/step - loss: 0.2547 - mae: 0.2519\n",
      "Epoch 49: val_mae improved from 0.25431 to 0.25333, saving model to best_hybrid_model.h5\n"
     ]
    },
    {
     "name": "stderr",
     "output_type": "stream",
     "text": [
      "WARNING:absl:You are saving your model as an HDF5 file via `model.save()` or `keras.saving.save_model(model)`. This file format is considered legacy. We recommend using instead the native Keras format, e.g. `model.save('my_model.keras')` or `keras.saving.save_model(model, 'my_model.keras')`. \n"
     ]
    },
    {
     "name": "stdout",
     "output_type": "stream",
     "text": [
      "\u001b[1m246/246\u001b[0m \u001b[32m━━━━━━━━━━━━━━━━━━━━\u001b[0m\u001b[37m\u001b[0m \u001b[1m148s\u001b[0m 602ms/step - loss: 0.2547 - mae: 0.2519 - val_loss: 0.2773 - val_mae: 0.2533 - learning_rate: 6.2500e-05\n",
      "Epoch 50/100\n",
      "\u001b[1m246/246\u001b[0m \u001b[32m━━━━━━━━━━━━━━━━━━━━\u001b[0m\u001b[37m\u001b[0m \u001b[1m0s\u001b[0m 556ms/step - loss: 0.2371 - mae: 0.2453\n",
      "Epoch 50: val_mae improved from 0.25333 to 0.25324, saving model to best_hybrid_model.h5\n"
     ]
    },
    {
     "name": "stderr",
     "output_type": "stream",
     "text": [
      "WARNING:absl:You are saving your model as an HDF5 file via `model.save()` or `keras.saving.save_model(model)`. This file format is considered legacy. We recommend using instead the native Keras format, e.g. `model.save('my_model.keras')` or `keras.saving.save_model(model, 'my_model.keras')`. \n"
     ]
    },
    {
     "name": "stdout",
     "output_type": "stream",
     "text": [
      "\u001b[1m246/246\u001b[0m \u001b[32m━━━━━━━━━━━━━━━━━━━━\u001b[0m\u001b[37m\u001b[0m \u001b[1m145s\u001b[0m 588ms/step - loss: 0.2372 - mae: 0.2454 - val_loss: 0.2759 - val_mae: 0.2532 - learning_rate: 6.2500e-05\n",
      "Epoch 51/100\n",
      "\u001b[1m246/246\u001b[0m \u001b[32m━━━━━━━━━━━━━━━━━━━━\u001b[0m\u001b[37m\u001b[0m \u001b[1m0s\u001b[0m 568ms/step - loss: 0.2545 - mae: 0.2460\n",
      "Epoch 51: val_mae did not improve from 0.25324\n",
      "\u001b[1m246/246\u001b[0m \u001b[32m━━━━━━━━━━━━━━━━━━━━\u001b[0m\u001b[37m\u001b[0m \u001b[1m148s\u001b[0m 601ms/step - loss: 0.2545 - mae: 0.2460 - val_loss: 0.2775 - val_mae: 0.2548 - learning_rate: 6.2500e-05\n",
      "Epoch 52/100\n",
      "\u001b[1m246/246\u001b[0m \u001b[32m━━━━━━━━━━━━━━━━━━━━\u001b[0m\u001b[37m\u001b[0m \u001b[1m0s\u001b[0m 561ms/step - loss: 0.2695 - mae: 0.2462\n",
      "Epoch 52: val_mae did not improve from 0.25324\n",
      "\u001b[1m246/246\u001b[0m \u001b[32m━━━━━━━━━━━━━━━━━━━━\u001b[0m\u001b[37m\u001b[0m \u001b[1m146s\u001b[0m 594ms/step - loss: 0.2695 - mae: 0.2462 - val_loss: 0.2764 - val_mae: 0.2543 - learning_rate: 6.2500e-05\n",
      "Epoch 53/100\n",
      "\u001b[1m246/246\u001b[0m \u001b[32m━━━━━━━━━━━━━━━━━━━━\u001b[0m\u001b[37m\u001b[0m \u001b[1m0s\u001b[0m 564ms/step - loss: 0.3029 - mae: 0.2508\n",
      "Epoch 53: val_mae improved from 0.25324 to 0.25314, saving model to best_hybrid_model.h5\n"
     ]
    },
    {
     "name": "stderr",
     "output_type": "stream",
     "text": [
      "WARNING:absl:You are saving your model as an HDF5 file via `model.save()` or `keras.saving.save_model(model)`. This file format is considered legacy. We recommend using instead the native Keras format, e.g. `model.save('my_model.keras')` or `keras.saving.save_model(model, 'my_model.keras')`. \n"
     ]
    },
    {
     "name": "stdout",
     "output_type": "stream",
     "text": [
      "\u001b[1m246/246\u001b[0m \u001b[32m━━━━━━━━━━━━━━━━━━━━\u001b[0m\u001b[37m\u001b[0m \u001b[1m147s\u001b[0m 598ms/step - loss: 0.3027 - mae: 0.2508 - val_loss: 0.2769 - val_mae: 0.2531 - learning_rate: 6.2500e-05\n",
      "Epoch 54/100\n",
      "\u001b[1m246/246\u001b[0m \u001b[32m━━━━━━━━━━━━━━━━━━━━\u001b[0m\u001b[37m\u001b[0m \u001b[1m0s\u001b[0m 572ms/step - loss: 0.3453 - mae: 0.2524\n",
      "Epoch 54: val_mae improved from 0.25314 to 0.25293, saving model to best_hybrid_model.h5\n"
     ]
    },
    {
     "name": "stderr",
     "output_type": "stream",
     "text": [
      "WARNING:absl:You are saving your model as an HDF5 file via `model.save()` or `keras.saving.save_model(model)`. This file format is considered legacy. We recommend using instead the native Keras format, e.g. `model.save('my_model.keras')` or `keras.saving.save_model(model, 'my_model.keras')`. \n"
     ]
    },
    {
     "name": "stdout",
     "output_type": "stream",
     "text": [
      "\u001b[1m246/246\u001b[0m \u001b[32m━━━━━━━━━━━━━━━━━━━━\u001b[0m\u001b[37m\u001b[0m \u001b[1m204s\u001b[0m 606ms/step - loss: 0.3450 - mae: 0.2524 - val_loss: 0.2771 - val_mae: 0.2529 - learning_rate: 6.2500e-05\n",
      "Epoch 55/100\n",
      "\u001b[1m246/246\u001b[0m \u001b[32m━━━━━━━━━━━━━━━━━━━━\u001b[0m\u001b[37m\u001b[0m \u001b[1m0s\u001b[0m 567ms/step - loss: 0.2783 - mae: 0.2482\n",
      "Epoch 55: val_mae did not improve from 0.25293\n",
      "\u001b[1m246/246\u001b[0m \u001b[32m━━━━━━━━━━━━━━━━━━━━\u001b[0m\u001b[37m\u001b[0m \u001b[1m147s\u001b[0m 599ms/step - loss: 0.2782 - mae: 0.2482 - val_loss: 0.2776 - val_mae: 0.2558 - learning_rate: 6.2500e-05\n",
      "Epoch 56/100\n",
      "\u001b[1m246/246\u001b[0m \u001b[32m━━━━━━━━━━━━━━━━━━━━\u001b[0m\u001b[37m\u001b[0m \u001b[1m0s\u001b[0m 557ms/step - loss: 0.2594 - mae: 0.2428\n",
      "Epoch 56: val_mae improved from 0.25293 to 0.25094, saving model to best_hybrid_model.h5\n"
     ]
    },
    {
     "name": "stderr",
     "output_type": "stream",
     "text": [
      "WARNING:absl:You are saving your model as an HDF5 file via `model.save()` or `keras.saving.save_model(model)`. This file format is considered legacy. We recommend using instead the native Keras format, e.g. `model.save('my_model.keras')` or `keras.saving.save_model(model, 'my_model.keras')`. \n"
     ]
    },
    {
     "name": "stdout",
     "output_type": "stream",
     "text": [
      "\u001b[1m246/246\u001b[0m \u001b[32m━━━━━━━━━━━━━━━━━━━━\u001b[0m\u001b[37m\u001b[0m \u001b[1m145s\u001b[0m 591ms/step - loss: 0.2594 - mae: 0.2428 - val_loss: 0.2765 - val_mae: 0.2509 - learning_rate: 6.2500e-05\n",
      "Epoch 57/100\n",
      "\u001b[1m246/246\u001b[0m \u001b[32m━━━━━━━━━━━━━━━━━━━━\u001b[0m\u001b[37m\u001b[0m \u001b[1m0s\u001b[0m 572ms/step - loss: 0.2417 - mae: 0.2435\n",
      "Epoch 57: val_mae did not improve from 0.25094\n",
      "\u001b[1m246/246\u001b[0m \u001b[32m━━━━━━━━━━━━━━━━━━━━\u001b[0m\u001b[37m\u001b[0m \u001b[1m149s\u001b[0m 605ms/step - loss: 0.2418 - mae: 0.2435 - val_loss: 0.2784 - val_mae: 0.2558 - learning_rate: 6.2500e-05\n",
      "Epoch 58/100\n",
      "\u001b[1m246/246\u001b[0m \u001b[32m━━━━━━━━━━━━━━━━━━━━\u001b[0m\u001b[37m\u001b[0m \u001b[1m0s\u001b[0m 559ms/step - loss: 0.2403 - mae: 0.2478\n",
      "Epoch 58: val_mae did not improve from 0.25094\n",
      "\u001b[1m246/246\u001b[0m \u001b[32m━━━━━━━━━━━━━━━━━━━━\u001b[0m\u001b[37m\u001b[0m \u001b[1m146s\u001b[0m 592ms/step - loss: 0.2404 - mae: 0.2478 - val_loss: 0.2766 - val_mae: 0.2522 - learning_rate: 6.2500e-05\n",
      "Epoch 59/100\n",
      "\u001b[1m246/246\u001b[0m \u001b[32m━━━━━━━━━━━━━━━━━━━━\u001b[0m\u001b[37m\u001b[0m \u001b[1m0s\u001b[0m 567ms/step - loss: 0.2239 - mae: 0.2417\n",
      "Epoch 59: val_mae did not improve from 0.25094\n",
      "\u001b[1m246/246\u001b[0m \u001b[32m━━━━━━━━━━━━━━━━━━━━\u001b[0m\u001b[37m\u001b[0m \u001b[1m148s\u001b[0m 600ms/step - loss: 0.2241 - mae: 0.2418 - val_loss: 0.2760 - val_mae: 0.2533 - learning_rate: 6.2500e-05\n",
      "Epoch 60/100\n",
      "\u001b[1m246/246\u001b[0m \u001b[32m━━━━━━━━━━━━━━━━━━━━\u001b[0m\u001b[37m\u001b[0m \u001b[1m0s\u001b[0m 560ms/step - loss: 0.2902 - mae: 0.2520\n",
      "Epoch 60: val_mae improved from 0.25094 to 0.25090, saving model to best_hybrid_model.h5\n"
     ]
    },
    {
     "name": "stderr",
     "output_type": "stream",
     "text": [
      "WARNING:absl:You are saving your model as an HDF5 file via `model.save()` or `keras.saving.save_model(model)`. This file format is considered legacy. We recommend using instead the native Keras format, e.g. `model.save('my_model.keras')` or `keras.saving.save_model(model, 'my_model.keras')`. \n"
     ]
    },
    {
     "name": "stdout",
     "output_type": "stream",
     "text": [
      "\n",
      "Epoch 60: ReduceLROnPlateau reducing learning rate to 3.125000148429535e-05.\n",
      "\u001b[1m246/246\u001b[0m \u001b[32m━━━━━━━━━━━━━━━━━━━━\u001b[0m\u001b[37m\u001b[0m \u001b[1m146s\u001b[0m 594ms/step - loss: 0.2901 - mae: 0.2520 - val_loss: 0.2770 - val_mae: 0.2509 - learning_rate: 6.2500e-05\n",
      "Epoch 61/100\n",
      "\u001b[1m246/246\u001b[0m \u001b[32m━━━━━━━━━━━━━━━━━━━━\u001b[0m\u001b[37m\u001b[0m \u001b[1m0s\u001b[0m 555ms/step - loss: 0.2476 - mae: 0.2402\n",
      "Epoch 61: val_mae improved from 0.25090 to 0.24907, saving model to best_hybrid_model.h5\n"
     ]
    },
    {
     "name": "stderr",
     "output_type": "stream",
     "text": [
      "WARNING:absl:You are saving your model as an HDF5 file via `model.save()` or `keras.saving.save_model(model)`. This file format is considered legacy. We recommend using instead the native Keras format, e.g. `model.save('my_model.keras')` or `keras.saving.save_model(model, 'my_model.keras')`. \n"
     ]
    },
    {
     "name": "stdout",
     "output_type": "stream",
     "text": [
      "\u001b[1m246/246\u001b[0m \u001b[32m━━━━━━━━━━━━━━━━━━━━\u001b[0m\u001b[37m\u001b[0m \u001b[1m145s\u001b[0m 588ms/step - loss: 0.2476 - mae: 0.2402 - val_loss: 0.2740 - val_mae: 0.2491 - learning_rate: 3.1250e-05\n",
      "Epoch 62/100\n",
      "\u001b[1m246/246\u001b[0m \u001b[32m━━━━━━━━━━━━━━━━━━━━\u001b[0m\u001b[37m\u001b[0m \u001b[1m0s\u001b[0m 557ms/step - loss: 0.2436 - mae: 0.2434\n",
      "Epoch 62: val_mae did not improve from 0.24907\n",
      "\u001b[1m246/246\u001b[0m \u001b[32m━━━━━━━━━━━━━━━━━━━━\u001b[0m\u001b[37m\u001b[0m \u001b[1m145s\u001b[0m 590ms/step - loss: 0.2437 - mae: 0.2434 - val_loss: 0.2749 - val_mae: 0.2520 - learning_rate: 3.1250e-05\n",
      "Epoch 63/100\n",
      "\u001b[1m246/246\u001b[0m \u001b[32m━━━━━━━━━━━━━━━━━━━━\u001b[0m\u001b[37m\u001b[0m \u001b[1m0s\u001b[0m 560ms/step - loss: 0.2260 - mae: 0.2405\n",
      "Epoch 63: val_mae did not improve from 0.24907\n",
      "\u001b[1m246/246\u001b[0m \u001b[32m━━━━━━━━━━━━━━━━━━━━\u001b[0m\u001b[37m\u001b[0m \u001b[1m146s\u001b[0m 594ms/step - loss: 0.2261 - mae: 0.2406 - val_loss: 0.2753 - val_mae: 0.2522 - learning_rate: 3.1250e-05\n",
      "Epoch 64/100\n",
      "\u001b[1m246/246\u001b[0m \u001b[32m━━━━━━━━━━━━━━━━━━━━\u001b[0m\u001b[37m\u001b[0m \u001b[1m0s\u001b[0m 558ms/step - loss: 0.2266 - mae: 0.2376\n",
      "Epoch 64: val_mae did not improve from 0.24907\n",
      "\u001b[1m246/246\u001b[0m \u001b[32m━━━━━━━━━━━━━━━━━━━━\u001b[0m\u001b[37m\u001b[0m \u001b[1m145s\u001b[0m 591ms/step - loss: 0.2267 - mae: 0.2376 - val_loss: 0.2745 - val_mae: 0.2493 - learning_rate: 3.1250e-05\n",
      "Epoch 65/100\n",
      "\u001b[1m246/246\u001b[0m \u001b[32m━━━━━━━━━━━━━━━━━━━━\u001b[0m\u001b[37m\u001b[0m \u001b[1m0s\u001b[0m 556ms/step - loss: 0.2527 - mae: 0.2430\n",
      "Epoch 65: val_mae did not improve from 0.24907\n",
      "\n",
      "Epoch 65: ReduceLROnPlateau reducing learning rate to 1.5625000742147677e-05.\n",
      "\u001b[1m246/246\u001b[0m \u001b[32m━━━━━━━━━━━━━━━━━━━━\u001b[0m\u001b[37m\u001b[0m \u001b[1m145s\u001b[0m 589ms/step - loss: 0.2527 - mae: 0.2430 - val_loss: 0.2729 - val_mae: 0.2492 - learning_rate: 3.1250e-05\n",
      "Epoch 66/100\n",
      "\u001b[1m246/246\u001b[0m \u001b[32m━━━━━━━━━━━━━━━━━━━━\u001b[0m\u001b[37m\u001b[0m \u001b[1m0s\u001b[0m 556ms/step - loss: 0.2849 - mae: 0.2476\n",
      "Epoch 66: val_mae improved from 0.24907 to 0.24846, saving model to best_hybrid_model.h5\n"
     ]
    },
    {
     "name": "stderr",
     "output_type": "stream",
     "text": [
      "WARNING:absl:You are saving your model as an HDF5 file via `model.save()` or `keras.saving.save_model(model)`. This file format is considered legacy. We recommend using instead the native Keras format, e.g. `model.save('my_model.keras')` or `keras.saving.save_model(model, 'my_model.keras')`. \n"
     ]
    },
    {
     "name": "stdout",
     "output_type": "stream",
     "text": [
      "\u001b[1m246/246\u001b[0m \u001b[32m━━━━━━━━━━━━━━━━━━━━\u001b[0m\u001b[37m\u001b[0m \u001b[1m145s\u001b[0m 590ms/step - loss: 0.2848 - mae: 0.2475 - val_loss: 0.2735 - val_mae: 0.2485 - learning_rate: 1.5625e-05\n",
      "Epoch 67/100\n",
      "\u001b[1m246/246\u001b[0m \u001b[32m━━━━━━━━━━━━━━━━━━━━\u001b[0m\u001b[37m\u001b[0m \u001b[1m0s\u001b[0m 558ms/step - loss: 0.2770 - mae: 0.2397\n",
      "Epoch 67: val_mae improved from 0.24846 to 0.24811, saving model to best_hybrid_model.h5\n"
     ]
    },
    {
     "name": "stderr",
     "output_type": "stream",
     "text": [
      "WARNING:absl:You are saving your model as an HDF5 file via `model.save()` or `keras.saving.save_model(model)`. This file format is considered legacy. We recommend using instead the native Keras format, e.g. `model.save('my_model.keras')` or `keras.saving.save_model(model, 'my_model.keras')`. \n"
     ]
    },
    {
     "name": "stdout",
     "output_type": "stream",
     "text": [
      "\u001b[1m246/246\u001b[0m \u001b[32m━━━━━━━━━━━━━━━━━━━━\u001b[0m\u001b[37m\u001b[0m \u001b[1m146s\u001b[0m 592ms/step - loss: 0.2769 - mae: 0.2397 - val_loss: 0.2730 - val_mae: 0.2481 - learning_rate: 1.5625e-05\n",
      "Epoch 68/100\n",
      "\u001b[1m246/246\u001b[0m \u001b[32m━━━━━━━━━━━━━━━━━━━━\u001b[0m\u001b[37m\u001b[0m \u001b[1m0s\u001b[0m 562ms/step - loss: 0.3240 - mae: 0.2492\n",
      "Epoch 68: val_mae did not improve from 0.24811\n",
      "\u001b[1m246/246\u001b[0m \u001b[32m━━━━━━━━━━━━━━━━━━━━\u001b[0m\u001b[37m\u001b[0m \u001b[1m146s\u001b[0m 595ms/step - loss: 0.3237 - mae: 0.2492 - val_loss: 0.2731 - val_mae: 0.2497 - learning_rate: 1.5625e-05\n",
      "Epoch 69/100\n",
      "\u001b[1m246/246\u001b[0m \u001b[32m━━━━━━━━━━━━━━━━━━━━\u001b[0m\u001b[37m\u001b[0m \u001b[1m0s\u001b[0m 586ms/step - loss: 0.2221 - mae: 0.2361\n",
      "Epoch 69: val_mae did not improve from 0.24811\n",
      "\u001b[1m246/246\u001b[0m \u001b[32m━━━━━━━━━━━━━━━━━━━━\u001b[0m\u001b[37m\u001b[0m \u001b[1m208s\u001b[0m 620ms/step - loss: 0.2222 - mae: 0.2362 - val_loss: 0.2731 - val_mae: 0.2484 - learning_rate: 1.5625e-05\n",
      "Epoch 70/100\n",
      "\u001b[1m246/246\u001b[0m \u001b[32m━━━━━━━━━━━━━━━━━━━━\u001b[0m\u001b[37m\u001b[0m \u001b[1m0s\u001b[0m 595ms/step - loss: 0.2480 - mae: 0.2379\n",
      "Epoch 70: val_mae did not improve from 0.24811\n",
      "\u001b[1m246/246\u001b[0m \u001b[32m━━━━━━━━━━━━━━━━━━━━\u001b[0m\u001b[37m\u001b[0m \u001b[1m155s\u001b[0m 631ms/step - loss: 0.2480 - mae: 0.2380 - val_loss: 0.2729 - val_mae: 0.2482 - learning_rate: 1.5625e-05\n",
      "Epoch 71/100\n",
      "\u001b[1m246/246\u001b[0m \u001b[32m━━━━━━━━━━━━━━━━━━━━\u001b[0m\u001b[37m\u001b[0m \u001b[1m0s\u001b[0m 590ms/step - loss: 0.2692 - mae: 0.2415\n",
      "Epoch 71: val_mae did not improve from 0.24811\n",
      "\n",
      "Epoch 71: ReduceLROnPlateau reducing learning rate to 7.812500371073838e-06.\n",
      "\u001b[1m246/246\u001b[0m \u001b[32m━━━━━━━━━━━━━━━━━━━━\u001b[0m\u001b[37m\u001b[0m \u001b[1m154s\u001b[0m 626ms/step - loss: 0.2691 - mae: 0.2415 - val_loss: 0.2716 - val_mae: 0.2486 - learning_rate: 1.5625e-05\n",
      "Epoch 72/100\n",
      "\u001b[1m246/246\u001b[0m \u001b[32m━━━━━━━━━━━━━━━━━━━━\u001b[0m\u001b[37m\u001b[0m \u001b[1m0s\u001b[0m 594ms/step - loss: 0.2257 - mae: 0.2380\n",
      "Epoch 72: val_mae improved from 0.24811 to 0.24764, saving model to best_hybrid_model.h5\n"
     ]
    },
    {
     "name": "stderr",
     "output_type": "stream",
     "text": [
      "WARNING:absl:You are saving your model as an HDF5 file via `model.save()` or `keras.saving.save_model(model)`. This file format is considered legacy. We recommend using instead the native Keras format, e.g. `model.save('my_model.keras')` or `keras.saving.save_model(model, 'my_model.keras')`. \n"
     ]
    },
    {
     "name": "stdout",
     "output_type": "stream",
     "text": [
      "\u001b[1m246/246\u001b[0m \u001b[32m━━━━━━━━━━━━━━━━━━━━\u001b[0m\u001b[37m\u001b[0m \u001b[1m155s\u001b[0m 630ms/step - loss: 0.2258 - mae: 0.2380 - val_loss: 0.2725 - val_mae: 0.2476 - learning_rate: 7.8125e-06\n",
      "Epoch 73/100\n",
      "\u001b[1m246/246\u001b[0m \u001b[32m━━━━━━━━━━━━━━━━━━━━\u001b[0m\u001b[37m\u001b[0m \u001b[1m0s\u001b[0m 589ms/step - loss: 0.2680 - mae: 0.2413\n",
      "Epoch 73: val_mae did not improve from 0.24764\n",
      "\u001b[1m246/246\u001b[0m \u001b[32m━━━━━━━━━━━━━━━━━━━━\u001b[0m\u001b[37m\u001b[0m \u001b[1m154s\u001b[0m 625ms/step - loss: 0.2679 - mae: 0.2413 - val_loss: 0.2725 - val_mae: 0.2477 - learning_rate: 7.8125e-06\n",
      "Epoch 74/100\n",
      "\u001b[1m246/246\u001b[0m \u001b[32m━━━━━━━━━━━━━━━━━━━━\u001b[0m\u001b[37m\u001b[0m \u001b[1m0s\u001b[0m 598ms/step - loss: 0.2663 - mae: 0.2425\n",
      "Epoch 74: val_mae did not improve from 0.24764\n",
      "\u001b[1m246/246\u001b[0m \u001b[32m━━━━━━━━━━━━━━━━━━━━\u001b[0m\u001b[37m\u001b[0m \u001b[1m156s\u001b[0m 632ms/step - loss: 0.2663 - mae: 0.2425 - val_loss: 0.2725 - val_mae: 0.2484 - learning_rate: 7.8125e-06\n",
      "Epoch 75/100\n",
      "\u001b[1m246/246\u001b[0m \u001b[32m━━━━━━━━━━━━━━━━━━━━\u001b[0m\u001b[37m\u001b[0m \u001b[1m0s\u001b[0m 602ms/step - loss: 0.2177 - mae: 0.2345\n",
      "Epoch 75: val_mae did not improve from 0.24764\n",
      "\u001b[1m246/246\u001b[0m \u001b[32m━━━━━━━━━━━━━━━━━━━━\u001b[0m\u001b[37m\u001b[0m \u001b[1m157s\u001b[0m 638ms/step - loss: 0.2178 - mae: 0.2345 - val_loss: 0.2726 - val_mae: 0.2496 - learning_rate: 7.8125e-06\n",
      "Epoch 76/100\n",
      "\u001b[1m246/246\u001b[0m \u001b[32m━━━━━━━━━━━━━━━━━━━━\u001b[0m\u001b[37m\u001b[0m \u001b[1m0s\u001b[0m 609ms/step - loss: 0.2395 - mae: 0.2399\n",
      "Epoch 76: val_mae did not improve from 0.24764\n",
      "\n",
      "Epoch 76: ReduceLROnPlateau reducing learning rate to 3.906250185536919e-06.\n",
      "\u001b[1m246/246\u001b[0m \u001b[32m━━━━━━━━━━━━━━━━━━━━\u001b[0m\u001b[37m\u001b[0m \u001b[1m161s\u001b[0m 656ms/step - loss: 0.2396 - mae: 0.2399 - val_loss: 0.2732 - val_mae: 0.2487 - learning_rate: 7.8125e-06\n",
      "Epoch 77/100\n",
      "\u001b[1m246/246\u001b[0m \u001b[32m━━━━━━━━━━━━━━━━━━━━\u001b[0m\u001b[37m\u001b[0m \u001b[1m0s\u001b[0m 624ms/step - loss: 0.2331 - mae: 0.2396\n",
      "Epoch 77: val_mae did not improve from 0.24764\n",
      "\u001b[1m246/246\u001b[0m \u001b[32m━━━━━━━━━━━━━━━━━━━━\u001b[0m\u001b[37m\u001b[0m \u001b[1m161s\u001b[0m 655ms/step - loss: 0.2332 - mae: 0.2396 - val_loss: 0.2724 - val_mae: 0.2482 - learning_rate: 3.9063e-06\n",
      "Epoch 78/100\n",
      "\u001b[1m246/246\u001b[0m \u001b[32m━━━━━━━━━━━━━━━━━━━━\u001b[0m\u001b[37m\u001b[0m \u001b[1m0s\u001b[0m 559ms/step - loss: 0.2684 - mae: 0.2455\n",
      "Epoch 78: val_mae did not improve from 0.24764\n",
      "\u001b[1m246/246\u001b[0m \u001b[32m━━━━━━━━━━━━━━━━━━━━\u001b[0m\u001b[37m\u001b[0m \u001b[1m145s\u001b[0m 591ms/step - loss: 0.2683 - mae: 0.2454 - val_loss: 0.2720 - val_mae: 0.2484 - learning_rate: 3.9063e-06\n",
      "Epoch 79/100\n",
      "\u001b[1m246/246\u001b[0m \u001b[32m━━━━━━━━━━━━━━━━━━━━\u001b[0m\u001b[37m\u001b[0m \u001b[1m0s\u001b[0m 565ms/step - loss: 0.2339 - mae: 0.2400\n",
      "Epoch 79: val_mae did not improve from 0.24764\n",
      "\u001b[1m246/246\u001b[0m \u001b[32m━━━━━━━━━━━━━━━━━━━━\u001b[0m\u001b[37m\u001b[0m \u001b[1m147s\u001b[0m 599ms/step - loss: 0.2339 - mae: 0.2400 - val_loss: 0.2721 - val_mae: 0.2482 - learning_rate: 3.9063e-06\n",
      "Epoch 80/100\n",
      "\u001b[1m246/246\u001b[0m \u001b[32m━━━━━━━━━━━━━━━━━━━━\u001b[0m\u001b[37m\u001b[0m \u001b[1m0s\u001b[0m 572ms/step - loss: 0.2473 - mae: 0.2448\n",
      "Epoch 80: val_mae did not improve from 0.24764\n",
      "\n",
      "Epoch 80: ReduceLROnPlateau reducing learning rate to 1.9531250927684596e-06.\n",
      "\u001b[1m246/246\u001b[0m \u001b[32m━━━━━━━━━━━━━━━━━━━━\u001b[0m\u001b[37m\u001b[0m \u001b[1m150s\u001b[0m 609ms/step - loss: 0.2473 - mae: 0.2448 - val_loss: 0.2726 - val_mae: 0.2482 - learning_rate: 3.9063e-06\n",
      "Epoch 81/100\n",
      "\u001b[1m246/246\u001b[0m \u001b[32m━━━━━━━━━━━━━━━━━━━━\u001b[0m\u001b[37m\u001b[0m \u001b[1m0s\u001b[0m 560ms/step - loss: 0.2585 - mae: 0.2463\n",
      "Epoch 81: val_mae did not improve from 0.24764\n",
      "\u001b[1m246/246\u001b[0m \u001b[32m━━━━━━━━━━━━━━━━━━━━\u001b[0m\u001b[37m\u001b[0m \u001b[1m146s\u001b[0m 592ms/step - loss: 0.2584 - mae: 0.2463 - val_loss: 0.2725 - val_mae: 0.2483 - learning_rate: 1.9531e-06\n",
      "Epoch 82/100\n",
      "\u001b[1m246/246\u001b[0m \u001b[32m━━━━━━━━━━━━━━━━━━━━\u001b[0m\u001b[37m\u001b[0m \u001b[1m0s\u001b[0m 567ms/step - loss: 0.2454 - mae: 0.2400\n",
      "Epoch 82: val_mae did not improve from 0.24764\n",
      "\u001b[1m246/246\u001b[0m \u001b[32m━━━━━━━━━━━━━━━━━━━━\u001b[0m\u001b[37m\u001b[0m \u001b[1m148s\u001b[0m 600ms/step - loss: 0.2454 - mae: 0.2400 - val_loss: 0.2723 - val_mae: 0.2481 - learning_rate: 1.9531e-06\n",
      "Epoch 82: early stopping\n",
      "Restoring model weights from the end of the best epoch: 72.\n",
      "\n",
      "Training completed in 278.87 minutes\n"
     ]
    }
   ],
   "source": [
    "print(\"\\nTraining started...\")\n",
    "start_time = time.time()\n",
    "\n",
    "history = model.fit(\n",
    "    train_gen,\n",
    "    validation_data=val_gen,\n",
    "    epochs=EPOCHS,\n",
    "    callbacks=callbacks\n",
    ")\n",
    "\n",
    "duration = (time.time() - start_time) / 60\n",
    "print(f\"\\nTraining completed in {duration:.2f} minutes\")"
   ]
  },
  {
   "cell_type": "code",
   "execution_count": 5,
   "id": "2273cfe9",
   "metadata": {},
   "outputs": [
    {
     "name": "stdout",
     "output_type": "stream",
     "text": [
      "\u001b[1m53/53\u001b[0m \u001b[32m━━━━━━━━━━━━━━━━━━━━\u001b[0m\u001b[37m\u001b[0m \u001b[1m16s\u001b[0m 299ms/step\n",
      "[SBP] MAE : 6.05\n",
      "[SBP] RMSE: 10.49\n",
      "[SBP] R2  : 0.800\n",
      "[DBP] MAE : 3.69\n",
      "[DBP] RMSE: 9.56\n",
      "[DBP] R2  : 0.603\n"
     ]
    }
   ],
   "source": [
    "import os\n",
    "import numpy as np\n",
    "import matplotlib.pyplot as plt\n",
    "from tensorflow.keras.preprocessing.image import load_img, img_to_array\n",
    "from sklearn.metrics import mean_absolute_error, mean_squared_error, r2_score\n",
    "import joblib\n",
    "from tensorflow.keras.models import load_model\n",
    "\n",
    "# --- Define paths ---\n",
    "test_dir = \"../data/model_data/test\"\n",
    "segments_dir = \"../data/segments\"\n",
    "scaler = joblib.load(\"label_scaler.save\")\n",
    "model = load_model(\"best_hybrid_model.h5\", compile=False)\n",
    "\n",
    "# --- Recreate label_map from filenames ---\n",
    "def build_label_map(image_folder):\n",
    "    label_map = {}\n",
    "    image_files = sorted([f for f in os.listdir(image_folder) if f.endswith(\".png\")])\n",
    "    for fname in image_files:\n",
    "        if \"_scalogram_\" in fname:\n",
    "            parts = fname.split(\"_scalogram_\")\n",
    "            if len(parts) == 2 and parts[1].endswith(\".png\"):\n",
    "                base = parts[0]\n",
    "                try:\n",
    "                    idx = int(parts[1].replace(\".png\", \"\"))\n",
    "                    label_map[fname] = (base, idx)\n",
    "                except:\n",
    "                    continue\n",
    "    return label_map\n",
    "\n",
    "label_map = build_label_map(test_dir)\n",
    "\n",
    "# --- Initialize arrays ---\n",
    "X_img_test = []\n",
    "X_ppg_test = []\n",
    "valid_y = []\n",
    "\n",
    "# --- Load scalogram and corresponding PPG segments ---\n",
    "for fname in sorted(os.listdir(test_dir)):\n",
    "    if not fname.endswith(\".png\"):\n",
    "        continue\n",
    "    try:\n",
    "        # Load scalogram\n",
    "        img_path = os.path.join(test_dir, fname)\n",
    "        img = load_img(img_path, color_mode=\"grayscale\", target_size=(128, 128))\n",
    "        img = img_to_array(img).astype(\"float32\") / 255.0\n",
    "        X_img_test.append(img)\n",
    "\n",
    "        # Extract base file and index using label_map\n",
    "        if fname not in label_map:\n",
    "            print(f\"Skipping {fname}: not found in label_map\")\n",
    "            continue\n",
    "        base, idx = label_map[fname]\n",
    "        ppg_path = os.path.join(segments_dir, f\"{base}_segments.npy\")\n",
    "        label_path = os.path.join(segments_dir, f\"{base}_labels.npy\")\n",
    "\n",
    "        if not os.path.exists(ppg_path) or not os.path.exists(label_path):\n",
    "            print(f\"Skipping {fname}: segment or label file not found\")\n",
    "            continue\n",
    "\n",
    "        segments = np.load(ppg_path)\n",
    "        labels = np.load(label_path)\n",
    "\n",
    "        if idx >= len(segments) or idx >= len(labels):\n",
    "            print(f\"Skipping {fname}: index out of bounds in segment or label\")\n",
    "            continue\n",
    "\n",
    "        X_ppg_test.append(segments[idx][:, np.newaxis])\n",
    "        valid_y.append(labels[idx])\n",
    "\n",
    "    except Exception as e:\n",
    "        print(f\"Skipping {fname}: {e}\")\n",
    "\n",
    "# --- Convert to arrays ---\n",
    "X_img_test = np.array(X_img_test)\n",
    "X_ppg_test = np.array(X_ppg_test)\n",
    "y_test = np.array(valid_y)\n",
    "\n",
    "# --- Scale labels ---\n",
    "y_test_scaled = scaler.transform(y_test)\n",
    "\n",
    "# --- Predict ---\n",
    "y_pred_scaled = model.predict({\"image_input\": X_img_test, \"ppg_input\": X_ppg_test}, verbose=1)\n",
    "y_pred = scaler.inverse_transform(y_pred_scaled)\n",
    "y_test = scaler.inverse_transform(y_test_scaled)\n",
    "\n",
    "# --- Metrics ---\n",
    "sbp_mae = mean_absolute_error(y_test[:, 0], y_pred[:, 0])\n",
    "dbp_mae = mean_absolute_error(y_test[:, 1], y_pred[:, 1])\n",
    "sbp_rmse = np.sqrt(mean_squared_error(y_test[:, 0], y_pred[:, 0]))\n",
    "dbp_rmse = np.sqrt(mean_squared_error(y_test[:, 1], y_pred[:, 1]))\n",
    "sbp_r2 = r2_score(y_test[:, 0], y_pred[:, 0])\n",
    "dbp_r2 = r2_score(y_test[:, 1], y_pred[:, 1])\n",
    "\n",
    "# --- Print Results ---\n",
    "print(f\"[SBP] MAE : {sbp_mae:.2f}\")\n",
    "print(f\"[SBP] RMSE: {sbp_rmse:.2f}\")\n",
    "print(f\"[SBP] R2  : {sbp_r2:.3f}\")\n",
    "print(f\"[DBP] MAE : {dbp_mae:.2f}\")\n",
    "print(f\"[DBP] RMSE: {dbp_rmse:.2f}\")\n",
    "print(f\"[DBP] R2  : {dbp_r2:.3f}\")\n"
   ]
  },
  {
   "cell_type": "code",
   "execution_count": 7,
   "id": "849706a1",
   "metadata": {},
   "outputs": [
    {
     "data": {
      "image/png": "[encoded data removed]",
      "text/plain": [
       "<Figure size 1200x500 with 2 Axes>"
      ]
     },
     "metadata": {},
     "output_type": "display_data"
    }
   ],
   "source": [
    "import matplotlib.pyplot as plt\n",
    "\n",
    "plt.figure(figsize=(12, 5))\n",
    "\n",
    "# --- SBP Plot ---\n",
    "plt.subplot(1, 2, 1)\n",
    "plt.scatter(y_test[:, 0], y_pred[:, 0], alpha=0.5, label=\"Predicted SBP\")\n",
    "plt.plot([80, 200], [80, 200], 'r--', label=\"Ideal\")\n",
    "plt.xlabel(\"True SBP (mmHg)\")\n",
    "plt.ylabel(\"Predicted SBP (mmHg)\")\n",
    "plt.title(\"SBP: Predicted vs True\")\n",
    "plt.legend()\n",
    "\n",
    "# --- DBP Plot ---\n",
    "plt.subplot(1, 2, 2)\n",
    "plt.scatter(y_test[:, 1], y_pred[:, 1], alpha=0.5, label=\"Predicted DBP\")\n",
    "plt.plot([40, 120], [40, 120], 'r--', label=\"Ideal\")\n",
    "plt.xlabel(\"True DBP (mmHg)\")\n",
    "plt.ylabel(\"Predicted DBP (mmHg)\")\n",
    "plt.title(\"DBP: Predicted vs True\")\n",
    "plt.legend()\n",
    "\n",
    "plt.tight_layout()\n",
    "plt.show()\n"
   ]
  }
 ],
 "metadata": {
  "kernelspec": {
   "display_name": "base",
   "language": "python",
   "name": "python3"
  },
  "language_info": {
   "codemirror_mode": {
    "name": "ipython",
    "version": 3
   },
   "file_extension": ".py",
   "mimetype": "text/x-python",
   "name": "python",
   "nbconvert_exporter": "python",
   "pygments_lexer": "ipython3",
   "version": "3.12.7"
  }
 },
 "nbformat": 4,
 "nbformat_minor": 5
}
